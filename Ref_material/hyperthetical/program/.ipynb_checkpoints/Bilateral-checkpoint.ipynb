{
 "cells": [
  {
   "cell_type": "code",
   "execution_count": 1,
   "metadata": {
    "collapsed": true
   },
   "outputs": [],
   "source": [
    "import os\n",
    "import pandas as pd\n",
    "import numpy as np\n",
    "import matplotlib.pyplot as plt\n",
    "import time\n",
    "from sklearn.preprocessing import normalize as nr\n",
    "from scipy.constants import c, h, k\n",
    "from scipy.optimize import curve_fit, least_squares\n",
    "from scipy.integrate import quad\n",
    "currentdir = os.getcwd()\n",
    "homefolder = os.path.dirname(os.getcwd())"
   ]
  },
  {
   "cell_type": "code",
   "execution_count": 2,
   "metadata": {},
   "outputs": [],
   "source": [
    "wl = np.array([0.548, 0.586, 0.628, 0.667, 0.704, 0.743, 0.786, 0.82])*10**(-6)\n",
    "\n",
    "experiment_folder = homefolder+\"/hyper/data/T1900_3_digital/\"\n",
    "camera_folder = homefolder+\"/hyper/camera_parameter/\"\n",
    "\n",
    "DF_QE = pd.read_excel(camera_folder+\"CMS22010236.xlsx\",'QE')\n",
    "DF_T = pd.read_excel(camera_folder+\"FIFO-Lens_tr.xlsx\")\n",
    "data = []\n",
    "for i in range(8):\n",
    "    data.append(pd.read_excel(experiment_folder+\"digital_value_1900.xlsx\",\"channel_\"+str(i),header=None))\n",
    "data = np.array(data)\n",
    "DF_DV = pd.read_excel(experiment_folder+\"digital_value_1900.xlsx\")\n",
    "tr_array = np.array(DF_T).transpose()\n",
    "qe_array = []\n",
    "for i in range(8):\n",
    "    qe_array.append(DF_QE.iloc[:, [0,1+i]])\n",
    "qe_array = np.array(qe_array).transpose(0,2,1)"
   ]
  },
  {
   "cell_type": "code",
   "execution_count": 3,
   "metadata": {},
   "outputs": [
    {
     "data": {
      "text/plain": [
       "[<matplotlib.lines.Line2D at 0x244aee14280>]"
      ]
     },
     "execution_count": 3,
     "metadata": {},
     "output_type": "execute_result"
    },
    {
     "data": {
      "image/png": "[encoded data removed]",
      "text/plain": [
       "<Figure size 432x288 with 1 Axes>"
      ]
     },
     "metadata": {
      "needs_background": "light"
     },
     "output_type": "display_data"
    }
   ],
   "source": [
    "plt.plot(data[0,:,7])"
   ]
  },
  {
   "cell_type": "code",
   "execution_count": 4,
   "metadata": {},
   "outputs": [],
   "source": [
    "wl0 = 0.5 * 10 ** (-6)\n",
    "wl1 = 0.9 * 10 ** (-6)\n",
    "\n",
    "def lin_int(x,x0,x1,y0,y1):\n",
    "    y = y0+(y1-y0)*(x-x0)/(x1-x0)\n",
    "    return y\n",
    "\n",
    "def GT(temp,wavelength):\n",
    "    param1 = h * 2 * c ** 2\n",
    "    param2 = h * c / k\n",
    "    result_value = param1/(wavelength**5)/(np.exp(param2/(wavelength*temp))-1)\n",
    "    return result_value\n",
    "\n",
    "def integr(wl,f_array,qe_array,a,b,t):\n",
    "    f_i = len(f_array[0,f_array[0,:]*10**(-9)<=wl])\n",
    "    qe_i = len(qe_array[0,qe_array[0,:]*10**(-9)<=wl])\n",
    "    f = lin_int(wl*10**9,f_array[0,f_i-1],f_array[0,f_i],f_array[1,f_i-1],f_array[1,f_i])\n",
    "    qe = lin_int(wl*10**9,qe_array[0,qe_i-1],qe_array[0,qe_i],qe_array[1,qe_i-1],qe_array[1,qe_i])\n",
    "    result = f*(a-b*(wl-wl0)/(wl1-wl0))*qe*GT(t,wl)*200\n",
    "    return result"
   ]
  },
  {
   "cell_type": "code",
   "execution_count": 5,
   "metadata": {},
   "outputs": [],
   "source": [
    "def process_itg(inten_array,qe_array,tr_array):\n",
    "    def inte_solve(qe,a,b,t):\n",
    "        result_f = []\n",
    "        for i in range(6):\n",
    "            funct = quad(integr,wl0,wl1,args=(tr_array,qe[i+2],a,b,t),epsabs = 1e-2, limit=5)[0]\n",
    "            result_f.append(funct)\n",
    "        return np.array(result_f)\n",
    "    popt,cov = curve_fit(inte_solve,qe_array,inten_array,bounds=((0,0,500),(1,0.1,1958.2)),maxfev=100000)\n",
    "    return popt[2],popt[0],popt[1]\n"
   ]
  },
  {
   "cell_type": "code",
   "execution_count": 6,
   "metadata": {},
   "outputs": [
    {
     "name": "stderr",
     "output_type": "stream",
     "text": [
      "C:\\Users\\ge83viz\\AppData\\Local\\Temp\\ipykernel_4044\\2948883340.py:5: IntegrationWarning: The maximum number of subdivisions (5) has been achieved.\n",
      "  If increasing the limit yields no improvement it is advised to analyze \n",
      "  the integrand in order to determine the difficulties.  If the position of a \n",
      "  local difficulty can be determined (singularity, discontinuity) one will \n",
      "  probably gain from splitting up the interval and calling the integrator \n",
      "  on the subranges.  Perhaps a special-purpose integrator should be used.\n",
      "  funct = quad(integr,wl0,wl1,args=(tr_array,qe[i+2],a,b,t),epsabs = 1e-2, limit=5)[0]\n"
     ]
    }
   ],
   "source": [
    "target = data[:,23:28,23:28]\n",
    "t_map = np.zeros((len(target[0]),len(target[0,0])))\n",
    "Ea_map = np.zeros((len(target[0]),len(target[0,0])))\n",
    "Eb_map = np.zeros((len(target[0]),len(target[0,0])))\n",
    "for i in range(len(target[0])):\n",
    "    for j in range(len(target[0,0])):\n",
    "        popt = process_itg(target[2:,i,j],qe_array,tr_array)\n",
    "        t_map[i,j]= popt[0]\n",
    "        Ea_map[i,j]= popt[1]\n",
    "        Eb_map[i,j]= popt[2]"
   ]
  },
  {
   "cell_type": "code",
   "execution_count": 7,
   "metadata": {},
   "outputs": [],
   "source": [
    "def ratio(inten_array,qe_array,tr_array):\n",
    "    def inte_solve(qe,t):\n",
    "        result_f = []\n",
    "        base = quad(integr,wl0,wl1,args=(tr_array,qe[0],1,0,t),epsabs = 1e-2, limit=5)[0]\n",
    "        for i in range(8):\n",
    "            funct = quad(integr,wl0,wl1,args=(tr_array,qe[i],1,0,t),epsabs = 1e-2, limit=5)[0]/base\n",
    "            result_f.append(funct)\n",
    "        return np.array(result_f)\n",
    "    popt,cov = curve_fit(inte_solve,qe_array,inten_array/inten_array[0],bounds=((500),(1958.2)),maxfev=100000)\n",
    "    return popt[0]\n"
   ]
  },
  {
   "cell_type": "code",
   "execution_count": 8,
   "metadata": {},
   "outputs": [
    {
     "name": "stderr",
     "output_type": "stream",
     "text": [
      "C:\\Users\\ge83viz\\AppData\\Local\\Temp\\ipykernel_4044\\2424910218.py:4: IntegrationWarning: The maximum number of subdivisions (5) has been achieved.\n",
      "  If increasing the limit yields no improvement it is advised to analyze \n",
      "  the integrand in order to determine the difficulties.  If the position of a \n",
      "  local difficulty can be determined (singularity, discontinuity) one will \n",
      "  probably gain from splitting up the interval and calling the integrator \n",
      "  on the subranges.  Perhaps a special-purpose integrator should be used.\n",
      "  base = quad(integr,wl0,wl1,args=(tr_array,qe[0],1,0,t),epsabs = 1e-2, limit=5)[0]\n",
      "C:\\Users\\ge83viz\\AppData\\Local\\Temp\\ipykernel_4044\\2424910218.py:6: IntegrationWarning: The maximum number of subdivisions (5) has been achieved.\n",
      "  If increasing the limit yields no improvement it is advised to analyze \n",
      "  the integrand in order to determine the difficulties.  If the position of a \n",
      "  local difficulty can be determined (singularity, discontinuity) one will \n",
      "  probably gain from splitting up the interval and calling the integrator \n",
      "  on the subranges.  Perhaps a special-purpose integrator should be used.\n",
      "  funct = quad(integr,wl0,wl1,args=(tr_array,qe[i],1,0,t),epsabs = 1e-2, limit=5)[0]/base\n"
     ]
    }
   ],
   "source": [
    "target = data[:,23:28,23:28]\n",
    "t_map = np.zeros((len(target[0]),len(target[0,0])))\n",
    "for i in range(len(target[0])):\n",
    "    for j in range(len(target[0,0])):\n",
    "        popt = ratio(target[:,i,j],qe_array,tr_array)\n",
    "        t_map[i,j]= popt"
   ]
  },
  {
   "cell_type": "markdown",
   "metadata": {},
   "source": [
    "Soll Wert:\n",
    "1726\t1753\t1771\t1777\t1771\t1753\t1726\n",
    "1753\t1784\t1809\t1818\t1809\t1784\t1753\n",
    "1771\t1809\t1842\t1859\t1842\t1809\t1771\n",
    "1777\t1818\t1859\t1900\t1859\t1818\t1777\n",
    "1771\t1809\t1842\t1859\t1842\t1809\t1771\n",
    "1753\t1784\t1809\t1818\t1809\t1784\t1753\n",
    "1726\t1753\t1771\t1777\t1771\t1753\t1726\n"
   ]
  },
  {
   "cell_type": "code",
   "execution_count": 9,
   "metadata": {},
   "outputs": [
    {
     "name": "stdout",
     "output_type": "stream",
     "text": [
      "[[1829.25958476 1855.06250609 1864.38100444 1855.06250609 1829.25958476]\n",
      " [1855.06250609 1888.21713984 1906.32488318 1888.21713984 1855.06250609]\n",
      " [1864.38100444 1906.32488318 1947.54115967 1906.32488318 1864.38100444]\n",
      " [1855.06250609 1888.21713984 1906.32488318 1888.21713984 1855.06250609]\n",
      " [1829.25958476 1855.06250609 1864.38100444 1855.06250609 1829.25958476]]\n"
     ]
    }
   ],
   "source": [
    "print(t_map)"
   ]
  },
  {
   "cell_type": "code",
   "execution_count": 10,
   "metadata": {},
   "outputs": [
    {
     "name": "stdout",
     "output_type": "stream",
     "text": [
      "[[0.16136225 0.16647434 0.16388458 0.16647434 0.16136225]\n",
      " [0.16647434 0.16134155 0.16373915 0.16134155 0.16647434]\n",
      " [0.16388458 0.16373915 0.16567051 0.16373915 0.16388458]\n",
      " [0.16647434 0.16134155 0.16373915 0.16134155 0.16647434]\n",
      " [0.16136225 0.16647434 0.16388458 0.16647434 0.16136225]]\n"
     ]
    }
   ],
   "source": [
    "print(Ea_map)"
   ]
  },
  {
   "cell_type": "code",
   "execution_count": 11,
   "metadata": {},
   "outputs": [
    {
     "data": {
      "image/png": "[encoded data removed]",
      "text/plain": [
       "<Figure size 432x288 with 2 Axes>"
      ]
     },
     "metadata": {
      "needs_background": "light"
     },
     "output_type": "display_data"
    }
   ],
   "source": [
    "plt.clf()\n",
    "im = plt.imshow(t_map)\n",
    "plt.colorbar(im, orientation='vertical')\n",
    "plt.xlabel(\"x pixel\")\n",
    "plt.ylabel(\"y pixel\")\n",
    "plt.rcParams.update({'font.size': 16})\n",
    "plt.title(\"temperature/K\")\n",
    "plt.savefig(currentdir+\"/filt_T.png\")"
   ]
  },
  {
   "cell_type": "code",
   "execution_count": 12,
   "metadata": {},
   "outputs": [
    {
     "name": "stderr",
     "output_type": "stream",
     "text": [
      "C:\\Users\\ge83viz\\AppData\\Local\\Temp\\ipykernel_4044\\2948883340.py:5: IntegrationWarning: The maximum number of subdivisions (5) has been achieved.\n",
      "  If increasing the limit yields no improvement it is advised to analyze \n",
      "  the integrand in order to determine the difficulties.  If the position of a \n",
      "  local difficulty can be determined (singularity, discontinuity) one will \n",
      "  probably gain from splitting up the interval and calling the integrator \n",
      "  on the subranges.  Perhaps a special-purpose integrator should be used.\n",
      "  funct = quad(integr,wl0,wl1,args=(tr_array,qe[i+2],a,b,t),epsabs = 1e-2, limit=5)[0]\n"
     ]
    },
    {
     "ename": "ValueError",
     "evalue": "operands could not be broadcast together with shapes (6,) (8,) ",
     "output_type": "error",
     "traceback": [
      "\u001b[1;31m---------------------------------------------------------------------------\u001b[0m",
      "\u001b[1;31mValueError\u001b[0m                                Traceback (most recent call last)",
      "Input \u001b[1;32mIn [12]\u001b[0m, in \u001b[0;36m<cell line: 1>\u001b[1;34m()\u001b[0m\n\u001b[1;32m----> 1\u001b[0m \u001b[38;5;28mprint\u001b[39m(\u001b[43mprocess_itg\u001b[49m\u001b[43m(\u001b[49m\u001b[43mdata\u001b[49m\u001b[43m[\u001b[49m\u001b[43m:\u001b[49m\u001b[43m,\u001b[49m\u001b[38;5;241;43m25\u001b[39;49m\u001b[43m,\u001b[49m\u001b[38;5;241;43m25\u001b[39;49m\u001b[43m]\u001b[49m\u001b[43m,\u001b[49m\u001b[43mqe_array\u001b[49m\u001b[43m,\u001b[49m\u001b[43mtr_array\u001b[49m\u001b[43m)\u001b[49m)\n",
      "Input \u001b[1;32mIn [5]\u001b[0m, in \u001b[0;36mprocess_itg\u001b[1;34m(inten_array, qe_array, tr_array)\u001b[0m\n\u001b[0;32m      6\u001b[0m         result_f\u001b[38;5;241m.\u001b[39mappend(funct)\n\u001b[0;32m      7\u001b[0m     \u001b[38;5;28;01mreturn\u001b[39;00m np\u001b[38;5;241m.\u001b[39marray(result_f)\n\u001b[1;32m----> 8\u001b[0m popt,cov \u001b[38;5;241m=\u001b[39m \u001b[43mcurve_fit\u001b[49m\u001b[43m(\u001b[49m\u001b[43minte_solve\u001b[49m\u001b[43m,\u001b[49m\u001b[43mqe_array\u001b[49m\u001b[43m,\u001b[49m\u001b[43minten_array\u001b[49m\u001b[43m,\u001b[49m\u001b[43mbounds\u001b[49m\u001b[38;5;241;43m=\u001b[39;49m\u001b[43m(\u001b[49m\u001b[43m(\u001b[49m\u001b[38;5;241;43m0\u001b[39;49m\u001b[43m,\u001b[49m\u001b[38;5;241;43m0\u001b[39;49m\u001b[43m,\u001b[49m\u001b[38;5;241;43m500\u001b[39;49m\u001b[43m)\u001b[49m\u001b[43m,\u001b[49m\u001b[43m(\u001b[49m\u001b[38;5;241;43m1\u001b[39;49m\u001b[43m,\u001b[49m\u001b[38;5;241;43m0.1\u001b[39;49m\u001b[43m,\u001b[49m\u001b[38;5;241;43m1958.2\u001b[39;49m\u001b[43m)\u001b[49m\u001b[43m)\u001b[49m\u001b[43m,\u001b[49m\u001b[43mmaxfev\u001b[49m\u001b[38;5;241;43m=\u001b[39;49m\u001b[38;5;241;43m100000\u001b[39;49m\u001b[43m)\u001b[49m\n\u001b[0;32m      9\u001b[0m \u001b[38;5;28;01mreturn\u001b[39;00m popt[\u001b[38;5;241m2\u001b[39m],popt[\u001b[38;5;241m0\u001b[39m],popt[\u001b[38;5;241m1\u001b[39m]\n",
      "File \u001b[1;32m~\\Anaconda3\\lib\\site-packages\\scipy\\optimize\\minpack.py:800\u001b[0m, in \u001b[0;36mcurve_fit\u001b[1;34m(f, xdata, ydata, p0, sigma, absolute_sigma, check_finite, bounds, method, jac, **kwargs)\u001b[0m\n\u001b[0;32m    797\u001b[0m \u001b[38;5;28;01mif\u001b[39;00m \u001b[38;5;124m'\u001b[39m\u001b[38;5;124mmax_nfev\u001b[39m\u001b[38;5;124m'\u001b[39m \u001b[38;5;129;01mnot\u001b[39;00m \u001b[38;5;129;01min\u001b[39;00m kwargs:\n\u001b[0;32m    798\u001b[0m     kwargs[\u001b[38;5;124m'\u001b[39m\u001b[38;5;124mmax_nfev\u001b[39m\u001b[38;5;124m'\u001b[39m] \u001b[38;5;241m=\u001b[39m kwargs\u001b[38;5;241m.\u001b[39mpop(\u001b[38;5;124m'\u001b[39m\u001b[38;5;124mmaxfev\u001b[39m\u001b[38;5;124m'\u001b[39m, \u001b[38;5;28;01mNone\u001b[39;00m)\n\u001b[1;32m--> 800\u001b[0m res \u001b[38;5;241m=\u001b[39m least_squares(func, p0, jac\u001b[38;5;241m=\u001b[39mjac, bounds\u001b[38;5;241m=\u001b[39mbounds, method\u001b[38;5;241m=\u001b[39mmethod,\n\u001b[0;32m    801\u001b[0m                     \u001b[38;5;241m*\u001b[39m\u001b[38;5;241m*\u001b[39mkwargs)\n\u001b[0;32m    803\u001b[0m \u001b[38;5;28;01mif\u001b[39;00m \u001b[38;5;129;01mnot\u001b[39;00m res\u001b[38;5;241m.\u001b[39msuccess:\n\u001b[0;32m    804\u001b[0m     \u001b[38;5;28;01mraise\u001b[39;00m \u001b[38;5;167;01mRuntimeError\u001b[39;00m(\u001b[38;5;124m\"\u001b[39m\u001b[38;5;124mOptimal parameters not found: \u001b[39m\u001b[38;5;124m\"\u001b[39m \u001b[38;5;241m+\u001b[39m res\u001b[38;5;241m.\u001b[39mmessage)\n",
      "File \u001b[1;32m~\\Anaconda3\\lib\\site-packages\\scipy\\optimize\\_lsq\\least_squares.py:820\u001b[0m, in \u001b[0;36mleast_squares\u001b[1;34m(fun, x0, jac, bounds, method, ftol, xtol, gtol, x_scale, loss, f_scale, diff_step, tr_solver, tr_options, jac_sparsity, max_nfev, verbose, args, kwargs)\u001b[0m\n\u001b[0;32m    817\u001b[0m \u001b[38;5;28;01mif\u001b[39;00m method \u001b[38;5;241m==\u001b[39m \u001b[38;5;124m'\u001b[39m\u001b[38;5;124mtrf\u001b[39m\u001b[38;5;124m'\u001b[39m:\n\u001b[0;32m    818\u001b[0m     x0 \u001b[38;5;241m=\u001b[39m make_strictly_feasible(x0, lb, ub)\n\u001b[1;32m--> 820\u001b[0m f0 \u001b[38;5;241m=\u001b[39m \u001b[43mfun_wrapped\u001b[49m\u001b[43m(\u001b[49m\u001b[43mx0\u001b[49m\u001b[43m)\u001b[49m\n\u001b[0;32m    822\u001b[0m \u001b[38;5;28;01mif\u001b[39;00m f0\u001b[38;5;241m.\u001b[39mndim \u001b[38;5;241m!=\u001b[39m \u001b[38;5;241m1\u001b[39m:\n\u001b[0;32m    823\u001b[0m     \u001b[38;5;28;01mraise\u001b[39;00m \u001b[38;5;167;01mValueError\u001b[39;00m(\u001b[38;5;124m\"\u001b[39m\u001b[38;5;124m`fun` must return at most 1-d array_like. \u001b[39m\u001b[38;5;124m\"\u001b[39m\n\u001b[0;32m    824\u001b[0m                      \u001b[38;5;124m\"\u001b[39m\u001b[38;5;124mf0.shape: \u001b[39m\u001b[38;5;132;01m{0}\u001b[39;00m\u001b[38;5;124m\"\u001b[39m\u001b[38;5;241m.\u001b[39mformat(f0\u001b[38;5;241m.\u001b[39mshape))\n",
      "File \u001b[1;32m~\\Anaconda3\\lib\\site-packages\\scipy\\optimize\\_lsq\\least_squares.py:815\u001b[0m, in \u001b[0;36mleast_squares.<locals>.fun_wrapped\u001b[1;34m(x)\u001b[0m\n\u001b[0;32m    814\u001b[0m \u001b[38;5;28;01mdef\u001b[39;00m \u001b[38;5;21mfun_wrapped\u001b[39m(x):\n\u001b[1;32m--> 815\u001b[0m     \u001b[38;5;28;01mreturn\u001b[39;00m np\u001b[38;5;241m.\u001b[39matleast_1d(fun(x, \u001b[38;5;241m*\u001b[39margs, \u001b[38;5;241m*\u001b[39m\u001b[38;5;241m*\u001b[39mkwargs))\n",
      "File \u001b[1;32m~\\Anaconda3\\lib\\site-packages\\scipy\\optimize\\minpack.py:485\u001b[0m, in \u001b[0;36m_wrap_func.<locals>.func_wrapped\u001b[1;34m(params)\u001b[0m\n\u001b[0;32m    484\u001b[0m \u001b[38;5;28;01mdef\u001b[39;00m \u001b[38;5;21mfunc_wrapped\u001b[39m(params):\n\u001b[1;32m--> 485\u001b[0m     \u001b[38;5;28;01mreturn\u001b[39;00m \u001b[43mfunc\u001b[49m\u001b[43m(\u001b[49m\u001b[43mxdata\u001b[49m\u001b[43m,\u001b[49m\u001b[43m \u001b[49m\u001b[38;5;241;43m*\u001b[39;49m\u001b[43mparams\u001b[49m\u001b[43m)\u001b[49m\u001b[43m \u001b[49m\u001b[38;5;241;43m-\u001b[39;49m\u001b[43m \u001b[49m\u001b[43mydata\u001b[49m\n",
      "\u001b[1;31mValueError\u001b[0m: operands could not be broadcast together with shapes (6,) (8,) "
     ]
    }
   ],
   "source": [
    "print(process_itg(data[:,25,25],qe_array,tr_array))"
   ]
  },
  {
   "cell_type": "code",
   "execution_count": null,
   "metadata": {},
   "outputs": [],
   "source": [
    "print(Eb_map)"
   ]
  },
  {
   "cell_type": "code",
   "execution_count": null,
   "metadata": {},
   "outputs": [],
   "source": [
    "print(np.mean(Ea_map-0.5*Eb_map))"
   ]
  },
  {
   "cell_type": "code",
   "execution_count": null,
   "metadata": {},
   "outputs": [],
   "source": [
    "print(np.mean(t_map))"
   ]
  },
  {
   "cell_type": "code",
   "execution_count": null,
   "metadata": {},
   "outputs": [],
   "source": [
    "wl0 = 0.5 * 10 ** (-6)\n",
    "wl1 = 1 * 10 ** (-6)\n",
    "\n",
    "def lin_int(x,x0,x1,y0,y1):\n",
    "    y = y0+(y1-y0)*(x-x0)/(x1-x0)\n",
    "    return y\n",
    "\n",
    "def GT(temp,wavelength):\n",
    "    param1 = h * 2 * c ** 2\n",
    "    param2 = h * c / k\n",
    "    result_value = param1/(wavelength**5)/(np.exp(param2/(wavelength*temp))-1)\n",
    "    return result_value\n",
    "\n",
    "def integr(wl,f_array,qe_array,a,b,t):\n",
    "    f_i = len(f_array[0,f_array[0,:]*10**(-9)<=wl])\n",
    "    qe_i = len(qe_array[0,qe_array[0,:]*10**(-9)<=wl])\n",
    "    f = lin_int(wl*10**9,f_array[0,f_i-1],f_array[0,f_i],f_array[1,f_i-1],f_array[1,f_i])\n",
    "    qe = lin_int(wl*10**9,qe_array[0,qe_i-1],qe_array[0,qe_i],qe_array[1,qe_i-1],qe_array[1,qe_i])\n",
    "    result = 0.93*f*(a-b*(wl-wl0)/(wl1-wl0))*qe*GT(t,wl)*100\n",
    "    return result\n",
    "\n",
    "def process_itg(inten_array,qe_array,tr_array):\n",
    "    def inte_solve(qe,a,b,t):\n",
    "        result_f = []\n",
    "        for i in range(8):\n",
    "            funct = quad(integr,wl0,wl1,args=(tr_array,qe[i],a,b,t),epsabs = 1e-2, limit=5)[0]\n",
    "            result_f.append(funct)\n",
    "        return np.array(result_f)\n",
    "    popt,cov = curve_fit(inte_solve,qe_array,inten_array,bounds=((0,0,500),(1,1,1958.2)),maxfev=100000)\n",
    "    return popt[2],popt[0],popt[1]\n"
   ]
  },
  {
   "cell_type": "code",
   "execution_count": null,
   "metadata": {},
   "outputs": [],
   "source": []
  },
  {
   "cell_type": "code",
   "execution_count": null,
   "metadata": {},
   "outputs": [],
   "source": [
    "# wl0 = 0.5 * 10 ** (-6)\n",
    "# wl1 = 1 * 10 ** (-6)\n",
    "#\n",
    "# def lin_int(x,x0,x1,y0,y1):\n",
    "#     y = y0+(y1-y0)*(x-x0)/(x1-x0)\n",
    "#     return y\n",
    "#\n",
    "# def GT(temp,wavelength):\n",
    "#     param1 = h * 2 * c ** 2\n",
    "#     param2 = h * c / k\n",
    "#     result_value = param1/(wavelength**5)/(np.exp(param2/(wavelength*temp))-1)\n",
    "#     return result_value\n",
    "#\n",
    "# def integr(wl,f_array,qe_array,a,t):\n",
    "#     f_i = len(f_array[0,f_array[0,:]*10**(-9)<=wl])\n",
    "#     qe_i = len(qe_array[0,qe_array[0,:]*10**(-9)<=wl])\n",
    "#     f = lin_int(wl*10**9,f_array[0,f_i-1],f_array[0,f_i],f_array[1,f_i-1],f_array[1,f_i])\n",
    "#     qe = lin_int(wl*10**9,qe_array[0,qe_i-1],qe_array[0,qe_i],qe_array[1,qe_i-1],qe_array[1,qe_i])\n",
    "#     result = 0.93*f*a*qe*GT(t,wl)*100\n",
    "#     return result\n",
    "#\n",
    "# def process_itg(inten_array,qe_array,tr_array):\n",
    "#     def inte_solve(qe,a,t):\n",
    "#         result_f = []\n",
    "#         for i in range(4):\n",
    "#             funct = quad(integr,wl0,wl1,args=(tr_array,qe[i+3],a,t),epsabs = 1e-2, limit=5)[0]\n",
    "#             result_f.append(funct)\n",
    "#         return np.array(result_f)\n",
    "#     popt,cov = curve_fit(inte_solve,qe_array,inten_array[3:7],bounds=((0,500),(1,1958.2)),maxfev=100000)\n",
    "#     return popt[1],popt[0]"
   ]
  },
  {
   "cell_type": "code",
   "execution_count": null,
   "metadata": {},
   "outputs": [],
   "source": [
    "plt.clf()\n",
    "im = plt.imshow(t_ori_map)\n",
    "plt.colorbar(im, orientation='vertical')\n",
    "plt.xlabel(\"x pixel\")\n",
    "plt.ylabel(\"y pixel\")\n",
    "plt.rcParams.update({'font.size': 16})\n",
    "plt.title(\"temperature/K\")\n",
    "plt.savefig(currentdir+\"/ori_T.png\")"
   ]
  },
  {
   "cell_type": "code",
   "execution_count": null,
   "metadata": {},
   "outputs": [],
   "source": [
    "print(t_ori_map)"
   ]
  },
  {
   "cell_type": "code",
   "execution_count": null,
   "metadata": {},
   "outputs": [],
   "source": [
    "print(Ea_ori_map)"
   ]
  },
  {
   "cell_type": "code",
   "execution_count": null,
   "metadata": {},
   "outputs": [],
   "source": [
    "print(Eb_map)"
   ]
  },
  {
   "cell_type": "code",
   "execution_count": null,
   "metadata": {},
   "outputs": [],
   "source": [
    "print(Eb_ori_map)"
   ]
  },
  {
   "cell_type": "code",
   "execution_count": null,
   "metadata": {},
   "outputs": [],
   "source": [
    "def inte_solve2(qe,a,t):\n",
    "        result_f = []\n",
    "        for i in range(4):\n",
    "            funct = quad(integr,wl0,wl1,args=(tr_array,qe[i+3],a,t),epsabs = 1e-2, limit=10)[0]\n",
    "            result_f.append(funct)\n",
    "        return np.array(result_f)"
   ]
  },
  {
   "cell_type": "code",
   "execution_count": null,
   "metadata": {},
   "outputs": [],
   "source": [
    "result_soll = inte_solve2(qe_array,0.87,0,1050.15)\n",
    "result_cal = inte_solve2(qe_array,0.269666,0,1127)\n",
    "meas = denoise[:,60,80]-noise\n",
    "ori = data[0,60,80,:]-noise\n",
    "plt.plot(meas[3:7],\"--\",label=\"meas\")\n",
    "plt.plot(ori[3:7],\"--\",label=\"ori\")\n",
    "plt.plot(result_cal*ex_factor/inte_sens[3:7],\"--\",label=\"cal\")\n",
    "plt.plot(result_soll*ex_factor/inte_sens[3:7],\"--\",label=\"soll\")\n",
    "plt.legend()"
   ]
  },
  {
   "cell_type": "markdown",
   "metadata": {},
   "source": []
  },
  {
   "cell_type": "code",
   "execution_count": null,
   "metadata": {},
   "outputs": [],
   "source": []
  }
 ],
 "metadata": {
  "kernelspec": {
   "display_name": "Python 3 (ipykernel)",
   "language": "python",
   "name": "python3"
  },
  "language_info": {
   "codemirror_mode": {
    "name": "ipython",
    "version": 3
   },
   "file_extension": ".py",
   "mimetype": "text/x-python",
   "name": "python",
   "nbconvert_exporter": "python",
   "pygments_lexer": "ipython3",
   "version": "3.9.12"
  }
 },
 "nbformat": 4,
 "nbformat_minor": 1
}
