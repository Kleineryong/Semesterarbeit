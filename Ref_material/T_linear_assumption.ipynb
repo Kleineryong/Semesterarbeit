{
 "cells": [
  {
   "cell_type": "code",
   "execution_count": 1,
   "id": "1ec47bde",
   "metadata": {},
   "outputs": [],
   "source": [
    "import os\n",
    "import pandas as pd\n",
    "from sklearn.metrics import mean_squared_error,r2_score,mean_absolute_percentage_error\n",
    "import numpy as np\n",
    "from scipy.constants import c, h, k\n",
    "from scipy.optimize import curve_fit,fsolve\n",
    "import matplotlib.pyplot as plt\n",
    "import tifffile as tif\n",
    "import math\n",
    "import plotly.graph_objects as go"
   ]
  },
  {
   "cell_type": "code",
   "execution_count": 2,
   "id": "1581cd0c",
   "metadata": {},
   "outputs": [],
   "source": [
    "## fix parameter\n",
    "\n",
    "wl = np.array([0.548, 0.586, 0.628, 0.667, 0.704, 0.743, 0.786, 0.826])*10**(-6)\n",
    "sens_factor = np.array([1754.7780081330168, 4614.964564504549, 9544.836689465254, 18681.526160164747, 28448.45940189293, 42794.15859091206, 61722.9332334226, 89214.96448715679])\n",
    "sens_factor_b = [-625203.4109383911, -1255959.3399823632, -2280428.045299191, -2896486.193421305, -3511055.365513118, -2647879.5561356354, -496042.6119804597, 6119684.353094454]\n",
    "# sens_factor_b = [0,0,0,0,0,0,0,0]\n",
    "param1 = h * 2 * c ** 2\n",
    "param2 = h * c / k \n",
    "emi = 1"
   ]
  },
  {
   "cell_type": "code",
   "execution_count": 3,
   "outputs": [],
   "source": [
    "homefolder = os.path.dirname(os.path.dirname(os.getcwd()))"
   ],
   "metadata": {
    "collapsed": false
   }
  },
  {
   "cell_type": "code",
   "execution_count": 13,
   "id": "d87ee43c",
   "metadata": {},
   "outputs": [],
   "source": [
    "## program parameter\n",
    "\n",
    "experiment_folder = \"10_MusTAM_EXP\\Try_with_offaxisFactor/V0_bb_700\"\n",
    "et = 3.5"
   ]
  },
  {
   "cell_type": "code",
   "execution_count": 4,
   "outputs": [],
   "source": [],
   "metadata": {
    "collapsed": false
   }
  },
  {
   "cell_type": "code",
   "execution_count": 5,
   "id": "659f2e93",
   "metadata": {},
   "outputs": [],
   "source": [
    "def getfile(homefolder, experiment_name):\n",
    "    RAWdata_folder = homefolder + \"/\" + experiment_name\n",
    "    os.chdir(RAWdata_folder)\n",
    "    file_list = list(filter(lambda x: x[-5:] == \".tiff\", os.listdir(RAWdata_folder)))\n",
    "    file_list.sort()\n",
    "    return file_list"
   ]
  },
  {
   "cell_type": "code",
   "execution_count": 6,
   "id": "b3264246",
   "metadata": {},
   "outputs": [],
   "source": [
    "## get data in form (series,x,y,channel)\n",
    "def get_data(file_list):\n",
    "    data = []\n",
    "    for img_series in range(round(len(file_list) / 9)):\n",
    "        data_betw = []\n",
    "        for idx_chl in range(8):\n",
    "            cI = tif.imread(file_list[img_series * 9 + idx_chl])\n",
    "            data_betw.append(cI)\n",
    "        data.append(data_betw)\n",
    "    data = np.transpose(np.asarray(data),(0,2,3,1))\n",
    "    return np.asarray(data)"
   ]
  },
  {
   "cell_type": "code",
   "execution_count": 7,
   "id": "2229e96f",
   "metadata": {},
   "outputs": [],
   "source": [
    "## theory function & fit func\n",
    "def GT(temp,wavelength):\n",
    "    result_value = param1/(wavelength**5)/(np.exp(param2/(wavelength*temp))-1)\n",
    "    return result_value\n",
    "def fit_F(wl,a,b,t):\n",
    "    return (a-b*(wl*10**6-0.548)/0.278)*GT(t,wl)"
   ]
  },
  {
   "cell_type": "code",
   "execution_count": 14,
   "id": "e160f696",
   "metadata": {},
   "outputs": [
    {
     "name": "stdout",
     "output_type": "stream",
     "text": [
      "(1, 160, 170, 8)\n",
      "(160, 170)\n"
     ]
    }
   ],
   "source": [
    "## get data\n",
    "file_list = getfile(homefolder,experiment_folder)\n",
    "data = get_data(file_list)\n",
    "# data = data[:,25:70,10:50,:]\n",
    "data = data[:,:,:,:]\n",
    "ori_data = data\n",
    "print(np.shape(data))\n",
    "noise = data[0,0,0]\n",
    "\n",
    "fig_idx = 0\n",
    "target_img = data[fig_idx,:,:,7]\n",
    "print(np.shape(target_img))\n",
    "noise = data[fig_idx,0,0,:]\n",
    "# threshold = 0.1*(target_img.max()-noise[7])\n",
    "threshold = 70\n",
    "filter_matr=(target_img>threshold)\n",
    "filt_mat = target_img*filter_matr\n",
    "fig_data = (data[fig_idx,:,:,:]-noise)*sens_factor/et+sens_factor_b"
   ]
  },
  {
   "cell_type": "markdown",
   "source": [
    "#Test\n"
   ],
   "metadata": {
    "collapsed": false
   }
  },
  {
   "cell_type": "code",
   "execution_count": 17,
   "id": "c2e62af7",
   "metadata": {},
   "outputs": [
    {
     "name": "stdout",
     "output_type": "stream",
     "text": [
      "[1.00000000e+00 2.15487254e-13 9.17860909e+02]\n"
     ]
    },
    {
     "data": {
      "text/plain": "<Figure size 432x288 with 1 Axes>",
      "image/png": "[encoded data removed]"
     },
     "metadata": {
      "needs_background": "light"
     },
     "output_type": "display_data"
    }
   ],
   "source": [
    "id_y = 40\n",
    "id_x = 35\n",
    "e_grey = 0.2\n",
    "inten_array = fig_data[id_y,id_x]\n",
    "popt,cov = curve_fit(fit_F,wl,e_grey *inten_array,bounds=((0.01,0,500),(1,1,3000)),maxfev=100000000)\n",
    "y = fit_F(wl,popt[0],popt[1],popt[2])\n",
    "plt.plot(ori_data[0,id_y,id_x,:],color=\"k\")\n",
    "plt.plot(noise+et/sens_factor*(y-sens_factor_b),color = \"r\")\n",
    "print(popt)"
   ]
  },
  {
   "cell_type": "code",
   "execution_count": 18,
   "outputs": [
    {
     "name": "stdout",
     "output_type": "stream",
     "text": [
      "[1.00000000e+00 2.15487254e-13 9.17860909e+02]\n"
     ]
    },
    {
     "data": {
      "text/plain": "<Figure size 432x288 with 1 Axes>",
      "image/png": "[encoded data removed]"
     },
     "metadata": {
      "needs_background": "light"
     },
     "output_type": "display_data"
    }
   ],
   "source": [
    "plt.plot(inten_array,color=\"k\")\n",
    "plt.plot(y,color = \"r\")\n",
    "print(popt)"
   ],
   "metadata": {
    "collapsed": false
   }
  },
  {
   "cell_type": "code",
   "execution_count": 14,
   "outputs": [
    {
     "name": "stdout",
     "output_type": "stream",
     "text": [
      "(160, 170)\n",
      "-0.029064774096867585\n"
     ]
    }
   ],
   "source": [
    "\n",
    "mat_array = []\n",
    "for i in range(len(filt_mat[0])):\n",
    "    for j in range(len(filt_mat)):\n",
    "        if filt_mat[j,i]>0:\n",
    "            mat_array.append([j,i])\n",
    "mat_array = np.asarray(mat_array)\n",
    "temp_mat = []\n",
    "k_mat = []\n",
    "b_mat = []\n",
    "r2_map = []\n",
    "for idx_arr in range(len(mat_array)):\n",
    "    inten_array = []\n",
    "    for idx_wl in range(8):\n",
    "        inten_array.append(fig_data[mat_array[idx_arr,0],mat_array[idx_arr,1],idx_wl])\n",
    "    popt,cov = curve_fit(fit_F,wl,inten_array,bounds=((0.01,0,500),(1,1,3000)),maxfev=100000000)\n",
    "    y = fit_F(wl,popt[0],popt[1],popt[2])\n",
    "    r2 = r2_score(y,inten_array)\n",
    "    r2_map.append(r2)\n",
    "    temp = popt[2]\n",
    "    k_value = popt[0]\n",
    "    k_mat.append(k_value)\n",
    "    b_value = popt[1]\n",
    "    b_mat.append(b_value)\n",
    "    temp_mat.append(temp)\n",
    "k_mat = np.asarray(k_mat)\n",
    "b_mat = np.asarray(b_mat)\n",
    "temp_mat = np.asarray(temp_mat)\n",
    "print(np.mean(r2_map))"
   ],
   "metadata": {
    "collapsed": false
   }
  },
  {
   "cell_type": "code",
   "execution_count": 18,
   "outputs": [
    {
     "data": {
      "text/plain": "[<matplotlib.lines.Line2D at 0x204aa539370>]"
     },
     "execution_count": 18,
     "metadata": {},
     "output_type": "execute_result"
    },
    {
     "data": {
      "text/plain": "<Figure size 432x288 with 1 Axes>",
      "image/png": "[encoded data removed]"
     },
     "metadata": {
      "needs_background": "light"
     },
     "output_type": "display_data"
    }
   ],
   "source": [
    "plt.plot(y)\n",
    "plt.plot(inten_array)"
   ],
   "metadata": {
    "collapsed": false
   }
  },
  {
   "cell_type": "code",
   "execution_count": 16,
   "id": "693215cb",
   "metadata": {},
   "outputs": [],
   "source": [
    "plot_data = np.zeros(np.shape(data[fig_idx,:,:,7]))+1\n",
    "k_map = np.zeros(np.shape(data[fig_idx,:,:,7]))+0.0001\n",
    "b_map = np.zeros(np.shape(data[fig_idx,:,:,7]))+0.0001\n",
    "plot_r2 = k_map\n",
    "for i in range(len(plot_data)):\n",
    "    for j in range(len(plot_data[1])):\n",
    "        for k in range(len(mat_array)):\n",
    "            if(mat_array[k,0]==i and mat_array[k,1]==j):\n",
    "                plot_data[i,j]=temp_mat[k]\n",
    "                k_map[i,j]=k_mat[k]\n",
    "                b_map[i,j]=b_mat[k]\n",
    "                plot_r2[i,j] = r2_map[k]\n"
   ]
  },
  {
   "cell_type": "code",
   "execution_count": 11,
   "outputs": [],
   "source": [
    "save_dir = \"H:/1_Forschung/11_MusTAM_Analyse\\HE_Result\\linear_700bb\"\n",
    "df1 = pd.DataFrame(plot_data)\n",
    "df2 = pd.DataFrame(k_map)\n",
    "df3 = pd.DataFrame(b_map)\n",
    "with pd.ExcelWriter(save_dir+\"/700bb.xlsx\") as writer:\n",
    "    df1.to_excel(writer,sheet_name=\"T\",index=False)\n",
    "    df2.to_excel(writer,sheet_name=\"a\",index=False)\n",
    "    df3.to_excel(writer,sheet_name=\"b\",index=False)"
   ],
   "metadata": {
    "collapsed": false
   }
  },
  {
   "cell_type": "code",
   "execution_count": 12,
   "outputs": [
    {
     "data": {
      "text/plain": "<Figure size 432x288 with 2 Axes>",
      "image/png": "[encoded data removed]"
     },
     "metadata": {
      "needs_background": "light"
     },
     "output_type": "display_data"
    }
   ],
   "source": [
    "plt.clf()\n",
    "im = plt.imshow(plot_data)\n",
    "plt.colorbar(im, orientation='vertical')\n",
    "plt.clim(1000, 1300)\n",
    "plt.xlabel(\"x pixel\")\n",
    "plt.ylabel(\"y pixel\")\n",
    "plt.rcParams.update({'font.size': 16})\n",
    "plt.title(\"temperature/K\")\n",
    "plt.savefig(save_dir+\"/T.png\")"
   ],
   "metadata": {
    "collapsed": false
   }
  },
  {
   "cell_type": "code",
   "execution_count": 13,
   "outputs": [
    {
     "ename": "NameError",
     "evalue": "name 'n' is not defined",
     "output_type": "error",
     "traceback": [
      "\u001B[1;31m---------------------------------------------------------------------------\u001B[0m",
      "\u001B[1;31mNameError\u001B[0m                                 Traceback (most recent call last)",
      "Input \u001B[1;32mIn [13]\u001B[0m, in \u001B[0;36m<cell line: 1>\u001B[1;34m()\u001B[0m\n\u001B[1;32m----> 1\u001B[0m \u001B[38;5;28mprint\u001B[39m(\u001B[43mn\u001B[49m\u001B[38;5;241m/\u001B[39m((i\u001B[38;5;241m+\u001B[39m\u001B[38;5;241m1\u001B[39m)\u001B[38;5;241m*\u001B[39m(j\u001B[38;5;241m+\u001B[39m\u001B[38;5;241m1\u001B[39m))\u001B[38;5;241m*\u001B[39m\u001B[38;5;241m100\u001B[39m)\n\u001B[0;32m      2\u001B[0m \u001B[38;5;28mprint\u001B[39m(n)\n\u001B[0;32m      3\u001B[0m \u001B[38;5;28mprint\u001B[39m(i)\n",
      "\u001B[1;31mNameError\u001B[0m: name 'n' is not defined"
     ]
    }
   ],
   "source": [
    "print(n/((i+1)*(j+1))*100)\n",
    "print(n)\n",
    "print(i)"
   ],
   "metadata": {
    "collapsed": false
   }
  },
  {
   "cell_type": "code",
   "execution_count": null,
   "id": "1501a1d3",
   "metadata": {
    "scrolled": true
   },
   "outputs": [],
   "source": [
    "plt.clf()\n",
    "print(plot_data.max())\n",
    "im = plt.imshow(data[0,:,:,7])\n",
    "plt.colorbar(im, orientation='vertical')\n",
    "plt.clim(0, 1023) \n",
    "plt.xlabel(\"x pixel\")\n",
    "plt.ylabel(\"y pixel\")\n",
    "plt.rcParams.update({'font.size': 16})\n",
    "plt.title(\"temperature/K\")"
   ]
  },
  {
   "cell_type": "code",
   "execution_count": null,
   "id": "febb600c",
   "metadata": {},
   "outputs": [],
   "source": [
    "plt.clf()\n",
    "print(plot_data.max())\n",
    "im = plt.imshow(k_map-b_map/2)\n",
    "plt.colorbar(im, orientation='vertical')\n",
    "plt.clim(0.8, 1) \n",
    "plt.xlabel(\"x pixel\")\n",
    "plt.ylabel(\"y pixel\")\n",
    "plt.rcParams.update({'font.size': 16})\n",
    "plt.title(\"temperature/K\")"
   ]
  },
  {
   "cell_type": "code",
   "execution_count": null,
   "id": "8aec6322",
   "metadata": {},
   "outputs": [],
   "source": [
    "\n",
    "plot_y = np.linspace(0,len(target_img),len(target_img))\n",
    "plot_x = np.linspace(0,len(target_img[1]),len(target_img[1]))\n",
    "px,py = np.meshgrid(plot_x, plot_y)\n",
    "fig = plt.figure()\n",
    "ax = fig.add_subplot(111, projection='3d')\n",
    "ax.plot_wireframe(px,py,plot_data)"
   ]
  },
  {
   "cell_type": "code",
   "execution_count": null,
   "id": "1dcbd410",
   "metadata": {},
   "outputs": [],
   "source": [
    "fig = go.Figure(data=[go.Surface(z=plot_data)])\n",
    "\n",
    "camera = dict(\n",
    "    up=dict(x=1, y=0, z=1),\n",
    "    center=dict(x=0, y=0, z=0),\n",
    "    eye=dict(x=0.2, y=0.3, z=1)\n",
    ")\n",
    "\n",
    "fig.update_layout(scene_camera=camera)\n",
    "fig.show()"
   ]
  },
  {
   "cell_type": "code",
   "execution_count": null,
   "id": "26cbd274",
   "metadata": {},
   "outputs": [],
   "source": [
    "fig = go.Figure(data=[go.Surface(z=k_map)])\n",
    "fig.show()"
   ]
  },
  {
   "cell_type": "code",
   "execution_count": null,
   "id": "958c8c0b",
   "metadata": {},
   "outputs": [],
   "source": [
    "fig = go.Figure(data=[go.Surface(z=b_map)])\n",
    "fig.show()"
   ]
  },
  {
   "cell_type": "code",
   "execution_count": null,
   "id": "e6bc5cc8",
   "metadata": {},
   "outputs": [],
   "source": [
    "reconst = []\n",
    "for i in range(len(plot_data)):\n",
    "    reconst_ar = []\n",
    "    for j in range(len(plot_data[1])):\n",
    "        rec = fit_F(wl[7],k_map[i,j],b_map[i,j],plot_data[i,j])\n",
    "        if rec > 1023:\n",
    "            rec = 950\n",
    "        reconst_ar.append(rec)\n",
    "    reconst.append(reconst_ar)\n",
    "reconst = np.asarray(reconst)"
   ]
  },
  {
   "cell_type": "code",
   "execution_count": null,
   "id": "1a0a9cb2",
   "metadata": {},
   "outputs": [],
   "source": [
    "recstr = (reconst+noise[7])/sens_factor[7]\n",
    "rec_im = plt.imshow(recstr)\n",
    "plt.colorbar(rec_im, orientation='vertical')\n",
    "plt.clim(0, 323) "
   ]
  },
  {
   "cell_type": "code",
   "execution_count": null,
   "id": "d43fb711",
   "metadata": {},
   "outputs": [],
   "source": [
    "im=plt.imshow(data[fig_idx,:,:,7])\n",
    "plt.colorbar(im, orientation='vertical')\n",
    "plt.clim([0,323])"
   ]
  },
  {
   "cell_type": "code",
   "execution_count": null,
   "id": "e9c44b80",
   "metadata": {},
   "outputs": [],
   "source": [
    "fig = go.Figure(data=[go.Surface(z=recstr,cmin=0, cmax=1023)])\n",
    "camera = dict(\n",
    "    up=dict(x=1, y=0, z=1),\n",
    "    center=dict(x=0, y=0, z=0),\n",
    "    eye=dict(x=0.2, y=0.3, z=1)\n",
    ")\n",
    "\n",
    "fig.update_layout(scene_camera=camera)\n",
    "fig.show()"
   ]
  },
  {
   "cell_type": "code",
   "execution_count": null,
   "id": "28c0ef63",
   "metadata": {},
   "outputs": [],
   "source": [
    "fig = go.Figure(data=[go.Surface(z=data[fig_idx,:,:,7],cmin=0, cmax=1023)])\n",
    "camera = dict(\n",
    "    up=dict(x=1, y=0, z=1),\n",
    "    center=dict(x=0, y=0, z=0),\n",
    "    eye=dict(x=0.2, y=0.3, z=1)\n",
    ")\n",
    "\n",
    "fig.update_layout(scene_camera=camera)\n",
    "fig.show()"
   ]
  },
  {
   "cell_type": "code",
   "execution_count": null,
   "id": "87c48c3c",
   "metadata": {},
   "outputs": [],
   "source": []
  },
  {
   "cell_type": "code",
   "execution_count": null,
   "id": "ae7191f3",
   "metadata": {},
   "outputs": [],
   "source": [
    "\n",
    "plot_y = np.linspace(0,len(target_img),len(target_img))\n",
    "plot_x = np.linspace(0,len(target_img[1]),len(target_img[1]))\n",
    "px,py = np.meshgrid(plot_x, plot_y)\n",
    "fig = plt.figure()\n",
    "ax = fig.add_subplot(111, projection='3d')\n",
    "ax.plot_wireframe(px,py,k_map)"
   ]
  },
  {
   "cell_type": "code",
   "execution_count": null,
   "id": "d7e55dc4",
   "metadata": {
    "scrolled": true
   },
   "outputs": [],
   "source": [
    "im = plt.imshow(plot_r2)\n",
    "plt.colorbar(im, orientation='vertical')\n",
    "plt.xlabel(\"x pixel\")\n",
    "plt.clim(0.6, 1) \n",
    "plt.rcParams.update({'font.size': 16})\n",
    "plt.ylabel(\"y pixel\")\n",
    "plt.title(\"R2-score\")"
   ]
  },
  {
   "cell_type": "code",
   "execution_count": null,
   "id": "d91bec4b",
   "metadata": {},
   "outputs": [],
   "source": [
    "im = plt.imshow(k_map)\n",
    "plt.colorbar(im, orientation='vertical')\n",
    "plt.xlabel(\"x pixel\")\n",
    "plt.rcParams.update({'font.size': 16})\n",
    "plt.clim(0, 1) \n",
    "plt.ylabel(\"y pixel\")\n",
    "plt.title(\"k-factor\")"
   ]
  },
  {
   "cell_type": "code",
   "execution_count": null,
   "id": "61ea5b25",
   "metadata": {},
   "outputs": [],
   "source": [
    "plt.clf()"
   ]
  },
  {
   "cell_type": "code",
   "execution_count": null,
   "id": "d1268329",
   "metadata": {},
   "outputs": [],
   "source": [
    "print(homefolder)\n",
    "for i in range(len(plot_r2)):\n",
    "    for j in range(len(plot_r2[0])):\n",
    "        if plot_r2[i,j]>0 and plot_r2[i,j]<0.92:\n",
    "            plt.rcParams['font.size'] = 15\n",
    "            fst_try = (data[0,i,j]-noise)*sens_factor\n",
    "            plt.plot(wl*10**6,fst_try,\"--\")\n",
    "            plt.xlabel(\"corrected value\")\n",
    "            plt.ylabel(\"wavelength/µm\")\n",
    "            plt.title(\"x\"+str(i)+\"_y\"+str(j)+\"_\"+str(plot_r2[i,j])[0:5])\n",
    "            plt.grid()\n",
    "            plt.savefig(homefolder+\"\\Result_calibration\\initial_situation\\off_problem_point/\"+str(j)+\"_\"+str(i)+\"_\"+str(plot_r2[i,j])[0:5]+\".png\")\n",
    "            plt.clf()"
   ]
  }
 ],
 "metadata": {
  "kernelspec": {
   "display_name": "Python 3 (ipykernel)",
   "language": "python",
   "name": "python3"
  },
  "language_info": {
   "codemirror_mode": {
    "name": "ipython",
    "version": 3
   },
   "file_extension": ".py",
   "mimetype": "text/x-python",
   "name": "python",
   "nbconvert_exporter": "python",
   "pygments_lexer": "ipython3",
   "version": "3.9.13"
  }
 },
 "nbformat": 4,
 "nbformat_minor": 5
}
