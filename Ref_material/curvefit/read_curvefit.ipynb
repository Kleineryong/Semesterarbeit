{
 "cells": [
  {
   "cell_type": "code",
   "execution_count": 1,
   "metadata": {},
   "outputs": [],
   "source": [
    "import os\n",
    "import pandas as pd\n",
    "from sklearn.metrics import mean_squared_error,r2_score,mean_absolute_percentage_error\n",
    "import numpy as np\n",
    "from scipy.constants import c, h, k\n",
    "from scipy.optimize import curve_fit,fsolve\n",
    "import matplotlib.pyplot as plt\n",
    "import tifffile as tif\n",
    "import math\n",
    "import plotly.graph_objects as go"
   ]
  },
  {
   "cell_type": "code",
   "execution_count": 2,
   "metadata": {},
   "outputs": [],
   "source": [
    "def getfile(homefolder, experiment_name):\n",
    "    RAWdata_folder = homefolder + \"/\" + experiment_name\n",
    "    os.chdir(RAWdata_folder)\n",
    "    file_list = list(filter(lambda x: x[-5:] == \".tiff\", os.listdir(RAWdata_folder)))\n",
    "    file_list.sort()\n",
    "    return file_list\n",
    "## get data in form (series,x,y,channel)\n",
    "def get_data(file_list):\n",
    "    data = []\n",
    "    for img_series in range(round(len(file_list) / 9)):\n",
    "        data_betw = []\n",
    "        for idx_chl in range(8):\n",
    "            cI = tif.imread(file_list[img_series * 9 + idx_chl])\n",
    "            data_betw.append(cI)\n",
    "        data.append(data_betw)\n",
    "    data = np.transpose(np.asarray(data),(0,2,3,1))\n",
    "    return np.asarray(data)"
   ]
  },
  {
   "cell_type": "code",
   "execution_count": 3,
   "metadata": {},
   "outputs": [],
   "source": [
    "## theory function & fit func\n",
    "def GT(temp,wavelength):\n",
    "    result_value = param1/(wavelength**5)/(np.exp(param2/(wavelength*temp))-1)*10**(-6)\n",
    "    return result_value\n",
    "def fit_F(wl,a,b,t):\n",
    "    return (a-b*(wl*10**6-0.548)/0.278)*GT(t,wl)"
   ]
  },
  {
   "cell_type": "code",
   "execution_count": 4,
   "metadata": {},
   "outputs": [],
   "source": [
    "## fix parameter\n",
    "\n",
    "wl = np.array([0.548, 0.586, 0.628, 0.667, 0.704, 0.743, 0.786, 0.826])*10**(-6)\n",
    "sens_factor = np.array([0.017547780102410992, 0.04614964550557874, 0.09544836678000658, 0.18681526194692097, 0.2844845925708136, 0.4279415858839935, 0.6172293335697243, 0.8921496437579155])\n",
    "sens_factor_b = [-0.6252034172081382, -1.2559592939190707, -2.2804279959666185, -2.896486330314393, -3.511054878378452, -2.6478795393421697, -0.496043324899249, 6.119685014350584]\n",
    "param1 = h * 2 * c ** 2\n",
    "param2 = h * c / k\n",
    "emi = 1\n",
    "## program parameter\n",
    "homefolder = os.path.dirname(os.path.dirname(os.getcwd()))\n",
    "experiment_folder = \"\\V0_bb_1085\"\n"
   ]
  },
  {
   "cell_type": "code",
   "execution_count": 7,
   "metadata": {},
   "outputs": [
    {
     "ename": "FileNotFoundError",
     "evalue": "[WinError 2] 系统找不到指定的文件。: 'G:\\\\Uni_Files/\\\\V0_bb_1085'",
     "output_type": "error",
     "traceback": [
      "\u001b[1;31m---------------------------------------------------------------------------\u001b[0m",
      "\u001b[1;31mFileNotFoundError\u001b[0m                         Traceback (most recent call last)",
      "\u001b[1;32m~\\AppData\\Local\\Temp\\ipykernel_41900\\4027798431.py\u001b[0m in \u001b[0;36m<module>\u001b[1;34m\u001b[0m\n\u001b[0;32m      1\u001b[0m \u001b[1;31m## get data\u001b[0m\u001b[1;33m\u001b[0m\u001b[1;33m\u001b[0m\u001b[0m\n\u001b[1;32m----> 2\u001b[1;33m \u001b[0mfile_list\u001b[0m \u001b[1;33m=\u001b[0m \u001b[0mgetfile\u001b[0m\u001b[1;33m(\u001b[0m\u001b[0mhomefolder\u001b[0m\u001b[1;33m,\u001b[0m\u001b[0mexperiment_folder\u001b[0m\u001b[1;33m)\u001b[0m\u001b[1;33m\u001b[0m\u001b[1;33m\u001b[0m\u001b[0m\n\u001b[0m\u001b[0;32m      3\u001b[0m \u001b[0mdata\u001b[0m \u001b[1;33m=\u001b[0m \u001b[0mget_data\u001b[0m\u001b[1;33m(\u001b[0m\u001b[0mfile_list\u001b[0m\u001b[1;33m)\u001b[0m\u001b[1;33m\u001b[0m\u001b[1;33m\u001b[0m\u001b[0m\n\u001b[0;32m      4\u001b[0m \u001b[1;31m# data = data[:,25:70,10:50,:]\u001b[0m\u001b[1;33m\u001b[0m\u001b[1;33m\u001b[0m\u001b[0m\n\u001b[0;32m      5\u001b[0m \u001b[0mdata\u001b[0m \u001b[1;33m=\u001b[0m \u001b[0mdata\u001b[0m\u001b[1;33m[\u001b[0m\u001b[1;33m:\u001b[0m\u001b[1;33m,\u001b[0m\u001b[1;33m:\u001b[0m\u001b[1;33m,\u001b[0m\u001b[1;33m:\u001b[0m\u001b[1;33m,\u001b[0m\u001b[1;33m:\u001b[0m\u001b[1;33m]\u001b[0m\u001b[1;33m\u001b[0m\u001b[1;33m\u001b[0m\u001b[0m\n",
      "\u001b[1;32m~\\AppData\\Local\\Temp\\ipykernel_41900\\2572835851.py\u001b[0m in \u001b[0;36mgetfile\u001b[1;34m(homefolder, experiment_name)\u001b[0m\n\u001b[0;32m      1\u001b[0m \u001b[1;32mdef\u001b[0m \u001b[0mgetfile\u001b[0m\u001b[1;33m(\u001b[0m\u001b[0mhomefolder\u001b[0m\u001b[1;33m,\u001b[0m \u001b[0mexperiment_name\u001b[0m\u001b[1;33m)\u001b[0m\u001b[1;33m:\u001b[0m\u001b[1;33m\u001b[0m\u001b[1;33m\u001b[0m\u001b[0m\n\u001b[0;32m      2\u001b[0m     \u001b[0mRAWdata_folder\u001b[0m \u001b[1;33m=\u001b[0m \u001b[0mhomefolder\u001b[0m \u001b[1;33m+\u001b[0m \u001b[1;34m\"/\"\u001b[0m \u001b[1;33m+\u001b[0m \u001b[0mexperiment_name\u001b[0m\u001b[1;33m\u001b[0m\u001b[1;33m\u001b[0m\u001b[0m\n\u001b[1;32m----> 3\u001b[1;33m     \u001b[0mos\u001b[0m\u001b[1;33m.\u001b[0m\u001b[0mchdir\u001b[0m\u001b[1;33m(\u001b[0m\u001b[0mRAWdata_folder\u001b[0m\u001b[1;33m)\u001b[0m\u001b[1;33m\u001b[0m\u001b[1;33m\u001b[0m\u001b[0m\n\u001b[0m\u001b[0;32m      4\u001b[0m     \u001b[0mfile_list\u001b[0m \u001b[1;33m=\u001b[0m \u001b[0mlist\u001b[0m\u001b[1;33m(\u001b[0m\u001b[0mfilter\u001b[0m\u001b[1;33m(\u001b[0m\u001b[1;32mlambda\u001b[0m \u001b[0mx\u001b[0m\u001b[1;33m:\u001b[0m \u001b[0mx\u001b[0m\u001b[1;33m[\u001b[0m\u001b[1;33m-\u001b[0m\u001b[1;36m5\u001b[0m\u001b[1;33m:\u001b[0m\u001b[1;33m]\u001b[0m \u001b[1;33m==\u001b[0m \u001b[1;34m\".tiff\"\u001b[0m\u001b[1;33m,\u001b[0m \u001b[0mos\u001b[0m\u001b[1;33m.\u001b[0m\u001b[0mlistdir\u001b[0m\u001b[1;33m(\u001b[0m\u001b[0mRAWdata_folder\u001b[0m\u001b[1;33m)\u001b[0m\u001b[1;33m)\u001b[0m\u001b[1;33m)\u001b[0m\u001b[1;33m\u001b[0m\u001b[1;33m\u001b[0m\u001b[0m\n\u001b[0;32m      5\u001b[0m     \u001b[0mfile_list\u001b[0m\u001b[1;33m.\u001b[0m\u001b[0msort\u001b[0m\u001b[1;33m(\u001b[0m\u001b[1;33m)\u001b[0m\u001b[1;33m\u001b[0m\u001b[1;33m\u001b[0m\u001b[0m\n",
      "\u001b[1;31mFileNotFoundError\u001b[0m: [WinError 2] 系统找不到指定的文件。: 'G:\\\\Uni_Files/\\\\V0_bb_1085'"
     ]
    }
   ],
   "source": [
    "## get data\n",
    "file_list = getfile(homefolder,experiment_folder)\n",
    "data = get_data(file_list)\n",
    "# data = data[:,25:70,10:50,:]\n",
    "data = data[:,:,:,:]\n",
    "print(np.shape(data))\n",
    "noise = data[0,0,0]\n",
    "print(noise)\n",
    "fst_try = (data[0,45,45]-noise)*sens_factor+sens_factor_b\n",
    "plt.plot(wl,fst_try,\"--\")\n",
    "print(fst_try)"
   ]
  },
  {
   "cell_type": "code",
   "execution_count": null,
   "metadata": {},
   "outputs": [],
   "source": []
  }
 ],
 "metadata": {
  "kernelspec": {
   "display_name": "Python 3 (ipykernel)",
   "language": "python",
   "name": "python3"
  },
  "language_info": {
   "codemirror_mode": {
    "name": "ipython",
    "version": 3
   },
   "file_extension": ".py",
   "mimetype": "text/x-python",
   "name": "python",
   "nbconvert_exporter": "python",
   "pygments_lexer": "ipython3",
   "version": "3.9.12"
  }
 },
 "nbformat": 4,
 "nbformat_minor": 1
}
