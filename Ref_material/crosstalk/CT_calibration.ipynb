{
 "cells": [
  {
   "cell_type": "code",
   "execution_count": 78,
   "outputs": [],
   "source": [
    "import os\n",
    "import pandas as pd\n",
    "import matplotlib.pyplot as plt\n",
    "import numpy as np\n",
    "from scipy.constants import c, h, k\n",
    "from scipy.optimize import curve_fit\n",
    "from scipy.integrate import quad\n",
    "from sklearn.metrics import r2_score\n",
    "homefolder = os.path.dirname(os.path.dirname(os.getcwd()))"
   ],
   "metadata": {
    "collapsed": false
   }
  },
  {
   "cell_type": "code",
   "execution_count": 2,
   "outputs": [],
   "source": [
    "wl0 = 0.5 * 10 ** (-6)\n",
    "wl1 = 0.9 * 10 ** (-6)\n",
    "param1 = h * 2 * c ** 2\n",
    "param2 = h * c / k\n",
    "wl = np.array([0.548, 0.586, 0.628, 0.667, 0.704, 0.743, 0.786, 0.82])*10**(-6)\n",
    "WL = [\"0.548\",\"0.585\",\"0.625\",\"0.663\",\"0.706\",\"0.744\",\"0.785\",\"0.824\"]\n",
    "T_array = np.array([700, 750, 800, 850, 900, 900, 950, 950, 950, 1000, 1000, 1050, 1075, 1085]) + 273.15\n",
    "camera_folder = homefolder+\"/13_Databank/\"\n",
    "DF_F = pd.read_excel(camera_folder+\"CMS22010236.xlsx\",'Filter')\n",
    "DF_QE0 = pd.read_excel(camera_folder+\"CMS22010236.xlsx\",'QE')\n",
    "DF_T = pd.read_excel(camera_folder+\"FIFO-Lens_tr.xlsx\")\n",
    "DF_QE = pd.read_excel(camera_folder+\"qe_cor.xlsx\")\n",
    "Anti_CT = np.array(pd.read_excel(camera_folder+\"CT_cor.xlsx\"))"
   ],
   "metadata": {
    "collapsed": false
   }
  },
  {
   "cell_type": "code",
   "execution_count": 74,
   "outputs": [],
   "source": [
    "def GT(temp,wavelength):\n",
    "    result_value = param1/(wavelength**5)/(np.exp(param2/(wavelength*temp))-1)\n",
    "    return result_value\n",
    "def cali_curvefit(a,b,DV):\n",
    "    return a*DV+b\n",
    "def cali_curvefit2(a,DV):\n",
    "    return a*DV"
   ],
   "metadata": {
    "collapsed": false
   }
  },
  {
   "cell_type": "code",
   "execution_count": 57,
   "outputs": [
    {
     "name": "stdout",
     "output_type": "stream",
     "text": [
      "[1756.746340466111, 4620.37681732433, 9554.599796821254, 18700.300953238424, 28473.225963567078, 42827.616845539575, 61765.23630284166, 84336.16850377414]\n",
      "[-624709.0730704351, -1254566.579938359, -2277504.575979584, -2890268.288779555, -3502079.0455933176, -2634842.052234063, -479234.01742252824, 4443257.578442007]\n"
     ]
    }
   ],
   "source": [
    "DF_mean = pd.read_csv(homefolder + \"/11_MusTAM_Analyse\\Result_calibration/mean_value_15.csv\")\n",
    "integra_factor = np.asarray(DF_mean.integre_factor)\n",
    "temp = np.asarray(DF_mean.temp)\n",
    "noise = np.asarray(DF_mean.noise)\n",
    "fac_a_o = []\n",
    "fac_b_o = []\n",
    "DV_matrix_o = []\n",
    "for j in range(len(WL)):\n",
    "    DV_array_o = []\n",
    "    PV_array_o = []\n",
    "    for i in range(len(temp)):\n",
    "        DV = DF_mean[DF_mean.noise==noise[i]]\n",
    "        DV_mean = np.array((np.asarray(DV[WL[j]])-noise[i])/integra_factor[i])[0]\n",
    "        DV_array_o.append(DV_mean)\n",
    "        PV_array_o.append(GT(temp[i],wl[j]))\n",
    "    DV_array_o = np.array(DV_array_o)\n",
    "    PV_array_o = np.array(PV_array_o)\n",
    "    popt,cov = curve_fit(cali_curvefit,DV_array_o,PV_array_o)\n",
    "    fac_a_o.append(popt[1])\n",
    "    fac_b_o.append(popt[0])\n",
    "    DV_matrix_o.append(DV_array_o)\n",
    "print(fac_a_o)\n",
    "print(fac_b_o)\n",
    "DV_matrix_o = np.array(DV_matrix_o)"
   ],
   "metadata": {
    "collapsed": false
   }
  },
  {
   "cell_type": "code",
   "execution_count": 49,
   "outputs": [],
   "source": [
    "# fac_a_o = [1756.938468705305, 4620.35850520328, 9552.7283697337, 18697.651981724794, 28449.45029295659, 42834.12281199195, 61743.46012858457, 93034.80373905237]\n",
    "# fac_b_o = [-625349.0077182171, -1254498.552607664, -2270294.039189352, -2879859.998244134, -3394908.9167206157, -2799286.3354184492, -354322.97312840755, -46838651.38351578]"
   ],
   "metadata": {
    "collapsed": false
   }
  },
  {
   "cell_type": "code",
   "execution_count": 62,
   "outputs": [],
   "source": [
    "fac_a_o = [1002.797069,2958.991884,6839.382626,14880.49427,24271.89704,39436.81028,59739.55742,91042.59694]\n",
    "fac_b_o = [-32089.5062,-88769.75653,-204592.6101,-322492.8039,-455474.4616,-487813.1406,-447094.1569,166585.3543]"
   ],
   "metadata": {
    "collapsed": false
   }
  },
  {
   "cell_type": "code",
   "execution_count": 40,
   "outputs": [
    {
     "name": "stdout",
     "output_type": "stream",
     "text": [
      "(8, 14)\n"
     ]
    }
   ],
   "source": [
    "print(np.shape(DV_matrix_o))"
   ],
   "metadata": {
    "collapsed": false
   }
  },
  {
   "cell_type": "code",
   "execution_count": 70,
   "outputs": [
    {
     "name": "stdout",
     "output_type": "stream",
     "text": [
      "[13733.750343380801, 32845.416999239525, 63815.46454010949, 112151.64245303175, 115941.99102295467, 127734.80790870922, 176249.7120461079, 156641.0745278495]\n",
      "[-260259.8758246685, -253994.60871545956, 438084.10432568006, 231020.30555459575, 382088.4060766045, 1215472.8622081615, 4687796.444981415, 2330629.6728531504]\n"
     ]
    }
   ],
   "source": [
    "WL2 = [\"0.548\",\"0.585\",\"0.625\",\"0.663\",\"0.706\",\"0.744\",\"0.785\",\"0.824\",\"1000\"]\n",
    "DF_QE2 = pd.read_excel(camera_folder+\"qe_cor.xlsx\")\n",
    "CT_cor = np.transpose(np.array(pd.read_excel(camera_folder+\"CT_cor.xlsx\")))\n",
    "DF_mean = pd.read_csv(homefolder + \"/11_MusTAM_Analyse\\Result_calibration/mean_value_15.csv\")\n",
    "integra_factor = np.asarray(DF_mean.integre_factor)\n",
    "temp = np.asarray(DF_mean.temp)\n",
    "noise = np.asarray(DF_mean.noise)\n",
    "fac_a = []\n",
    "fac_b = []\n",
    "PV_matrx = []\n",
    "for j in range(len(wl)):\n",
    "    DV_array = []\n",
    "    PV_array = []\n",
    "    for i in range(len(temp)):\n",
    "        DV = DF_mean[DF_mean.noise==noise[i]]\n",
    "        DV_mean = []\n",
    "        for k in WL2:\n",
    "            DV_mean.append(np.array((np.asarray(DV[k])-noise[i])/integra_factor[i])[0])\n",
    "        DV_mean = CT_cor @ np.array(DV_mean)\n",
    "        DV_array.append(DV_mean)\n",
    "        PV_array.append(GT(temp[i],wl[j]))\n",
    "    DV_array = np.array(DV_array)\n",
    "    PV_array = np.array(PV_array)\n",
    "    PV_matrx.append(PV_array)\n",
    "    popt,cov = curve_fit(cali_curvefit,DV_array[:,j],PV_array)\n",
    "    fac_a.append(popt[1])\n",
    "    fac_b.append(popt[0])\n",
    "PV_matrx = np.array(PV_matrx)\n",
    "\n",
    "print(fac_a)\n",
    "print(fac_b)"
   ],
   "metadata": {
    "collapsed": false
   }
  },
  {
   "cell_type": "code",
   "execution_count": 71,
   "outputs": [
    {
     "data": {
      "text/plain": "<Figure size 432x288 with 1 Axes>",
      "image/png": "[encoded data removed]"
     },
     "metadata": {
      "needs_background": "light"
     },
     "output_type": "display_data"
    }
   ],
   "source": [
    "for i in range(8):\n",
    "    plt.clf()\n",
    "    plt.plot(DV_array[:,i]*fac_a[i]+fac_b[i],color=\"b\")\n",
    "    plt.plot(DV_matrix_o[i,:]*fac_a_o[i]+fac_b_o[i],color=\"r\")\n",
    "    plt.plot(PV_matrx[i,:],color=\"k\")\n",
    "    plt.savefig(\"H:/1_Forschung/12_Program_p\\MSI_preprocessing\\Crosstalk/cali_T-wise_ch\"+str(i+1)+\".png\", dpi=800,bbox_inches='tight')"
   ],
   "metadata": {
    "collapsed": false
   }
  },
  {
   "cell_type": "code",
   "execution_count": 72,
   "outputs": [
    {
     "data": {
      "text/plain": "<Figure size 432x288 with 1 Axes>",
      "image/png": "[encoded data removed]"
     },
     "metadata": {
      "needs_background": "light"
     },
     "output_type": "display_data"
    }
   ],
   "source": [
    "for i in range(len(DV_array)):\n",
    "    plt.clf()\n",
    "    plt.plot(DV_array[i,:]*fac_a+fac_b,color=\"b\")\n",
    "    plt.plot(DV_matrix_o[:,i]*fac_a_o+fac_b_o,color=\"r\")\n",
    "    plt.plot(PV_matrx[:,i],color=\"k\")\n",
    "    plt.savefig(\"H:/1_Forschung/12_Program_p\\MSI_preprocessing\\Crosstalk/cali_ch-wise_T\"+str(temp[i])+\"_case\"+str(i+1)+\".png\", dpi=800,bbox_inches='tight')\n"
   ],
   "metadata": {
    "collapsed": false
   }
  },
  {
   "cell_type": "code",
   "execution_count": 45,
   "outputs": [
    {
     "ename": "ValueError",
     "evalue": "operands could not be broadcast together with shapes (14,) (8,) ",
     "output_type": "error",
     "traceback": [
      "\u001B[1;31m---------------------------------------------------------------------------\u001B[0m",
      "\u001B[1;31mValueError\u001B[0m                                Traceback (most recent call last)",
      "Input \u001B[1;32mIn [45]\u001B[0m, in \u001B[0;36m<cell line: 1>\u001B[1;34m()\u001B[0m\n\u001B[0;32m      1\u001B[0m \u001B[38;5;28;01mfor\u001B[39;00m i \u001B[38;5;129;01min\u001B[39;00m \u001B[38;5;28mrange\u001B[39m(\u001B[38;5;28mlen\u001B[39m(temp)):\n\u001B[0;32m      2\u001B[0m     plt\u001B[38;5;241m.\u001B[39mclf()\n\u001B[1;32m----> 3\u001B[0m     plt\u001B[38;5;241m.\u001B[39mplot(\u001B[43mDV_array\u001B[49m\u001B[43m[\u001B[49m\u001B[43m:\u001B[49m\u001B[43m,\u001B[49m\u001B[43mi\u001B[49m\u001B[43m]\u001B[49m\u001B[38;5;241;43m*\u001B[39;49m\u001B[43mfac_a\u001B[49m\u001B[38;5;241m+\u001B[39mfac_b,\u001B[38;5;124m\"\u001B[39m\u001B[38;5;124m--\u001B[39m\u001B[38;5;124m\"\u001B[39m,color\u001B[38;5;241m=\u001B[39m\u001B[38;5;124m\"\u001B[39m\u001B[38;5;124mb\u001B[39m\u001B[38;5;124m\"\u001B[39m)\n\u001B[0;32m      4\u001B[0m     plt\u001B[38;5;241m.\u001B[39mplot(DV_matrix_o[i,:]\u001B[38;5;241m*\u001B[39mfac_a_o\u001B[38;5;241m+\u001B[39mfac_b_o,\u001B[38;5;124m\"\u001B[39m\u001B[38;5;124m--\u001B[39m\u001B[38;5;124m\"\u001B[39m,color\u001B[38;5;241m=\u001B[39m\u001B[38;5;124m\"\u001B[39m\u001B[38;5;124mr\u001B[39m\u001B[38;5;124m\"\u001B[39m)\n\u001B[0;32m      5\u001B[0m     plt\u001B[38;5;241m.\u001B[39mplot(PV_matrx[:,i],color\u001B[38;5;241m=\u001B[39m\u001B[38;5;124m\"\u001B[39m\u001B[38;5;124mk\u001B[39m\u001B[38;5;124m\"\u001B[39m)\n",
      "\u001B[1;31mValueError\u001B[0m: operands could not be broadcast together with shapes (14,) (8,) "
     ]
    },
    {
     "data": {
      "text/plain": "<Figure size 432x288 with 0 Axes>"
     },
     "metadata": {},
     "output_type": "display_data"
    }
   ],
   "source": [
    "for i in range(len(temp)):\n",
    "    plt.clf()\n",
    "    plt.plot(DV_array[:,i]*fac_a+fac_b,\"--\",color=\"b\")\n",
    "    plt.plot(DV_matrix_o[i,:]*fac_a_o+fac_b_o,\"--\",color=\"r\")\n",
    "    plt.plot(PV_matrx[:,i],color=\"k\")\n",
    "    plt.savefig(\"H:/1_Forschung/12_Program_p\\MSI_preprocessing\\Crosstalk/High-PV_compare\"+str(temp[i])+\"_\"+str(i+1)+\".png\", dpi=800,bbox_inches='tight')"
   ],
   "metadata": {
    "collapsed": false
   }
  },
  {
   "cell_type": "code",
   "execution_count": 8,
   "outputs": [],
   "source": [
    "def lin_int(x,x0,x1,y0,y1):\n",
    "    y = y0+(y1-y0)*(x-x0)/(x1-x0)\n",
    "    return y\n",
    "\n",
    "def GT(temp,wavelength):\n",
    "    result_value = param1/(wavelength**5)/(np.exp(param2/(wavelength*temp))-1)\n",
    "    return result_value\n",
    "\n",
    "\n",
    "def integr(wl,f_array,qe_array,t):\n",
    "    f_i = len(f_array[0,f_array[0,:]*10**(-9)<=wl])\n",
    "    qe_i = len(qe_array[0,qe_array[0,:]*10**(-9)<=wl])\n",
    "    f = lin_int(wl*10**9,f_array[0,f_i-1],f_array[0,f_i],f_array[1,f_i-1],f_array[1,f_i])\n",
    "    qe = lin_int(wl*10**9,qe_array[0,qe_i-1],qe_array[0,qe_i],qe_array[1,qe_i-1],qe_array[1,qe_i])\n",
    "    result = f*qe*GT(t,wl)*100\n",
    "    return result\n",
    "\n",
    "def funct_int(qe,t):\n",
    "    funct0 = quad(integr, wl0, wl1, args=(tr_array, qe, t))[0]\n",
    "    return funct0"
   ],
   "metadata": {
    "collapsed": false
   }
  },
  {
   "cell_type": "code",
   "execution_count": 14,
   "outputs": [],
   "source": [
    "inte_sens = np.array([0.04706984, 0.04876983, 0.05158658, 0.05285746, 0.05138346, 0.05094696,\n",
    " 0.04993592, 0.04941019, 0.05243453])\n",
    "DF_F = pd.read_excel(camera_folder + \"CMS22010236.xlsx\", 'Filter')\n",
    "DF_QE = pd.read_excel(camera_folder + \"CMS22010236.xlsx\", 'QE')\n",
    "DF_T = pd.read_excel(camera_folder + \"FIFO-Lens_tr_backup.xlsx\")\n",
    "qe_array = []\n",
    "for i in range(9):\n",
    "    qe_array.append(DF_QE.iloc[:-1, [0, 1 + i]])\n",
    "qe_array = np.array(qe_array).transpose(0, 2, 1)\n",
    "tr_array = np.array(DF_T).transpose()\n",
    "wl0 = 0.5 * 10 ** (-6)\n",
    "wl1 = 1 * 10 ** (-6)"
   ],
   "metadata": {
    "collapsed": false
   }
  },
  {
   "cell_type": "code",
   "execution_count": 30,
   "outputs": [
    {
     "name": "stderr",
     "output_type": "stream",
     "text": [
      "C:\\Users\\ge83viz\\AppData\\Local\\Temp\\ipykernel_28192\\1447442625.py:19: IntegrationWarning: The maximum number of subdivisions (50) has been achieved.\n",
      "  If increasing the limit yields no improvement it is advised to analyze \n",
      "  the integrand in order to determine the difficulties.  If the position of a \n",
      "  local difficulty can be determined (singularity, discontinuity) one will \n",
      "  probably gain from splitting up the interval and calling the integrator \n",
      "  on the subranges.  Perhaps a special-purpose integrator should be used.\n",
      "  funct0 = quad(integr, wl0, wl1, args=(tr_array, qe, t))[0]\n"
     ]
    },
    {
     "data": {
      "text/plain": "<Figure size 432x288 with 1 Axes>",
      "image/png": "[encoded data removed]"
     },
     "metadata": {
      "needs_background": "light"
     },
     "output_type": "display_data"
    }
   ],
   "source": [
    "DF_mean = pd.read_csv(homefolder + \"/11_MusTAM_Analyse\\Result_calibration/mean_value_15.csv\")\n",
    "temp = np.asarray(DF_mean.temp)\n",
    "noise = np.asarray(DF_mean.noise)\n",
    "DF_QE_ori = pd.read_excel(camera_folder + \"CMS22010236.xlsx\", 'QE')\n",
    "DF_T = pd.read_excel(camera_folder + \"FIFO-Lens_tr_backup.xlsx\")\n",
    "qe_array_ori = []\n",
    "for i in range(9):\n",
    "    qe_array_ori.append(DF_QE_ori.iloc[:, [0, 1 + i]])\n",
    "qe_array_ori = np.array(qe_array_ori).transpose(0, 2, 1)\n",
    "tr_array = np.array(DF_T).transpose()\n",
    "for i in range(len(temp)):\n",
    "    plt.clf()\n",
    "    DV_ori = []\n",
    "    DV_reconst = []\n",
    "    DV = DF_mean[DF_mean.noise==noise[i]]\n",
    "    for j in range(9):\n",
    "        DV_mean = np.array((np.asarray(DV[WL2[j]])-noise[i])/integra_factor[i])[0]\n",
    "        DV_ori.append(DV_mean)\n",
    "        DV_reconst.append(funct_int(qe_array_ori[j],temp[i])/inte_sens[j])\n",
    "    plt.plot(DV_ori,\"--\",color=\"k\")\n",
    "    plt.plot(DV_reconst,\"--\",color=\"r\")\n",
    "    plt.savefig(\"H:/1_Forschung/12_Program_p\\MSI_preprocessing\\Crosstalk/DV_reconst\"+str(i+1)+\".jpg\", dpi=800,bbox_inches='tight')"
   ],
   "metadata": {
    "collapsed": false
   }
  },
  {
   "cell_type": "code",
   "execution_count": 65,
   "outputs": [
    {
     "name": "stderr",
     "output_type": "stream",
     "text": [
      "C:\\Users\\ge83viz\\AppData\\Local\\Temp\\ipykernel_28192\\1447442625.py:19: IntegrationWarning: The maximum number of subdivisions (50) has been achieved.\n",
      "  If increasing the limit yields no improvement it is advised to analyze \n",
      "  the integrand in order to determine the difficulties.  If the position of a \n",
      "  local difficulty can be determined (singularity, discontinuity) one will \n",
      "  probably gain from splitting up the interval and calling the integrator \n",
      "  on the subranges.  Perhaps a special-purpose integrator should be used.\n",
      "  funct0 = quad(integr, wl0, wl1, args=(tr_array, qe, t))[0]\n",
      "C:\\Users\\ge83viz\\AppData\\Local\\Temp\\ipykernel_28192\\1447442625.py:19: IntegrationWarning: The maximum number of subdivisions (50) has been achieved.\n",
      "  If increasing the limit yields no improvement it is advised to analyze \n",
      "  the integrand in order to determine the difficulties.  If the position of a \n",
      "  local difficulty can be determined (singularity, discontinuity) one will \n",
      "  probably gain from splitting up the interval and calling the integrator \n",
      "  on the subranges.  Perhaps a special-purpose integrator should be used.\n",
      "  funct0 = quad(integr, wl0, wl1, args=(tr_array, qe, t))[0]\n",
      "C:\\Users\\ge83viz\\AppData\\Local\\Temp\\ipykernel_28192\\1447442625.py:19: IntegrationWarning: The maximum number of subdivisions (50) has been achieved.\n",
      "  If increasing the limit yields no improvement it is advised to analyze \n",
      "  the integrand in order to determine the difficulties.  If the position of a \n",
      "  local difficulty can be determined (singularity, discontinuity) one will \n",
      "  probably gain from splitting up the interval and calling the integrator \n",
      "  on the subranges.  Perhaps a special-purpose integrator should be used.\n",
      "  funct0 = quad(integr, wl0, wl1, args=(tr_array, qe, t))[0]\n",
      "C:\\Users\\ge83viz\\AppData\\Local\\Temp\\ipykernel_28192\\1447442625.py:19: IntegrationWarning: The maximum number of subdivisions (50) has been achieved.\n",
      "  If increasing the limit yields no improvement it is advised to analyze \n",
      "  the integrand in order to determine the difficulties.  If the position of a \n",
      "  local difficulty can be determined (singularity, discontinuity) one will \n",
      "  probably gain from splitting up the interval and calling the integrator \n",
      "  on the subranges.  Perhaps a special-purpose integrator should be used.\n",
      "  funct0 = quad(integr, wl0, wl1, args=(tr_array, qe, t))[0]\n",
      "C:\\Users\\ge83viz\\AppData\\Local\\Temp\\ipykernel_28192\\1447442625.py:19: IntegrationWarning: The maximum number of subdivisions (50) has been achieved.\n",
      "  If increasing the limit yields no improvement it is advised to analyze \n",
      "  the integrand in order to determine the difficulties.  If the position of a \n",
      "  local difficulty can be determined (singularity, discontinuity) one will \n",
      "  probably gain from splitting up the interval and calling the integrator \n",
      "  on the subranges.  Perhaps a special-purpose integrator should be used.\n",
      "  funct0 = quad(integr, wl0, wl1, args=(tr_array, qe, t))[0]\n",
      "C:\\Users\\ge83viz\\AppData\\Local\\Temp\\ipykernel_28192\\1447442625.py:19: IntegrationWarning: The maximum number of subdivisions (50) has been achieved.\n",
      "  If increasing the limit yields no improvement it is advised to analyze \n",
      "  the integrand in order to determine the difficulties.  If the position of a \n",
      "  local difficulty can be determined (singularity, discontinuity) one will \n",
      "  probably gain from splitting up the interval and calling the integrator \n",
      "  on the subranges.  Perhaps a special-purpose integrator should be used.\n",
      "  funct0 = quad(integr, wl0, wl1, args=(tr_array, qe, t))[0]\n",
      "C:\\Users\\ge83viz\\AppData\\Local\\Temp\\ipykernel_28192\\1447442625.py:19: IntegrationWarning: The maximum number of subdivisions (50) has been achieved.\n",
      "  If increasing the limit yields no improvement it is advised to analyze \n",
      "  the integrand in order to determine the difficulties.  If the position of a \n",
      "  local difficulty can be determined (singularity, discontinuity) one will \n",
      "  probably gain from splitting up the interval and calling the integrator \n",
      "  on the subranges.  Perhaps a special-purpose integrator should be used.\n",
      "  funct0 = quad(integr, wl0, wl1, args=(tr_array, qe, t))[0]\n",
      "C:\\Users\\ge83viz\\AppData\\Local\\Temp\\ipykernel_28192\\1447442625.py:19: IntegrationWarning: The maximum number of subdivisions (50) has been achieved.\n",
      "  If increasing the limit yields no improvement it is advised to analyze \n",
      "  the integrand in order to determine the difficulties.  If the position of a \n",
      "  local difficulty can be determined (singularity, discontinuity) one will \n",
      "  probably gain from splitting up the interval and calling the integrator \n",
      "  on the subranges.  Perhaps a special-purpose integrator should be used.\n",
      "  funct0 = quad(integr, wl0, wl1, args=(tr_array, qe, t))[0]\n",
      "C:\\Users\\ge83viz\\AppData\\Local\\Temp\\ipykernel_28192\\1447442625.py:19: IntegrationWarning: The maximum number of subdivisions (50) has been achieved.\n",
      "  If increasing the limit yields no improvement it is advised to analyze \n",
      "  the integrand in order to determine the difficulties.  If the position of a \n",
      "  local difficulty can be determined (singularity, discontinuity) one will \n",
      "  probably gain from splitting up the interval and calling the integrator \n",
      "  on the subranges.  Perhaps a special-purpose integrator should be used.\n",
      "  funct0 = quad(integr, wl0, wl1, args=(tr_array, qe, t))[0]\n",
      "C:\\Users\\ge83viz\\AppData\\Local\\Temp\\ipykernel_28192\\1447442625.py:19: IntegrationWarning: The maximum number of subdivisions (50) has been achieved.\n",
      "  If increasing the limit yields no improvement it is advised to analyze \n",
      "  the integrand in order to determine the difficulties.  If the position of a \n",
      "  local difficulty can be determined (singularity, discontinuity) one will \n",
      "  probably gain from splitting up the interval and calling the integrator \n",
      "  on the subranges.  Perhaps a special-purpose integrator should be used.\n",
      "  funct0 = quad(integr, wl0, wl1, args=(tr_array, qe, t))[0]\n"
     ]
    },
    {
     "data": {
      "text/plain": "<Figure size 432x288 with 1 Axes>",
      "image/png": "[encoded data removed]"
     },
     "metadata": {
      "needs_background": "light"
     },
     "output_type": "display_data"
    }
   ],
   "source": [
    "t = 1500\n",
    "for i in range(10):\n",
    "    DV_ref = []\n",
    "    PV_ref = []\n",
    "    for j in range(9):\n",
    "        DV_ref.append(funct_int(qe_array_ori[j],t)/inte_sens[j])\n",
    "        if j !=8:\n",
    "            PV_ref.append(GT(t,wl[j]))\n",
    "    DV_ref = np.array(DV_ref)\n",
    "    DV_CT_cor = CT_cor @ np.array(DV_ref)\n",
    "\n",
    "    plt.clf()\n",
    "\n",
    "    plt.plot(PV_ref,color=\"k\")\n",
    "\n",
    "    plt.plot(DV_ref[:8]*fac_a_o+fac_b_o,\"--\",color=\"r\")\n",
    "\n",
    "    plt.plot(DV_CT_cor*fac_a+fac_b,\"--\",color=\"b\")\n",
    "\n",
    "    plt.savefig(\"H:/1_Forschung/12_Program_p\\MSI_preprocessing\\Crosstalk/High-PV_compare\"+str(t)+\".jpg\", dpi=800,bbox_inches='tight')\n",
    "\n",
    "    t = t +500"
   ],
   "metadata": {
    "collapsed": false
   }
  },
  {
   "cell_type": "code",
   "execution_count": null,
   "outputs": [],
   "source": [],
   "metadata": {
    "collapsed": false
   }
  },
  {
   "cell_type": "code",
   "execution_count": 75,
   "outputs": [
    {
     "name": "stdout",
     "output_type": "stream",
     "text": [
      "[13158.704419696605, 32313.82381373593, 64566.50629320141, 112503.51019005575, 116285.96866317325, 128453.782107051, 178583.06906017265, 157371.19720705043]\n"
     ]
    }
   ],
   "source": [
    "WL2 = [\"0.548\",\"0.585\",\"0.625\",\"0.663\",\"0.706\",\"0.744\",\"0.785\",\"0.824\",\"1000\"]\n",
    "DF_QE2 = pd.read_excel(camera_folder+\"qe_cor.xlsx\")\n",
    "CT_cor = np.transpose(np.array(pd.read_excel(camera_folder+\"CT_cor.xlsx\")))\n",
    "DF_mean = pd.read_csv(homefolder + \"/11_MusTAM_Analyse\\Result_calibration/mean_value_15.csv\")\n",
    "integra_factor = np.asarray(DF_mean.integre_factor)\n",
    "temp = np.asarray(DF_mean.temp)\n",
    "noise = np.asarray(DF_mean.noise)\n",
    "fac_a = []\n",
    "PV_matrx = []\n",
    "for j in range(len(wl)):\n",
    "    DV_array = []\n",
    "    PV_array = []\n",
    "    for i in range(len(temp)):\n",
    "        DV = DF_mean[DF_mean.noise==noise[i]]\n",
    "        DV_mean = []\n",
    "        for k in WL2:\n",
    "            DV_mean.append(np.array((np.asarray(DV[k])-noise[i])/integra_factor[i])[0])\n",
    "        DV_mean = CT_cor @ np.array(DV_mean)\n",
    "        DV_array.append(DV_mean)\n",
    "        PV_array.append(GT(temp[i],wl[j]))\n",
    "    DV_array = np.array(DV_array)\n",
    "    PV_array = np.array(PV_array)\n",
    "    PV_matrx.append(PV_array)\n",
    "    popt,cov = curve_fit(cali_curvefit2,DV_array[:,j],PV_array)\n",
    "    fac_a.append(popt[0])\n",
    "PV_matrx = np.array(PV_matrx)\n",
    "print(fac_a)"
   ],
   "metadata": {
    "collapsed": false
   }
  },
  {
   "cell_type": "code",
   "execution_count": 101,
   "outputs": [
    {
     "data": {
      "text/plain": "<Figure size 432x288 with 1 Axes>",
      "image/png": "[encoded data removed]"
     },
     "metadata": {
      "needs_background": "light"
     },
     "output_type": "display_data"
    }
   ],
   "source": [
    "r2_ch_ACT = []\n",
    "r2_ch_ori = []\n",
    "for i in range(8):\n",
    "    plt.clf()\n",
    "    result_ACT = DV_array[:,i]*fac_a[i]\n",
    "    result_ori = DV_matrix_o[i,:]*fac_a_o[i]+fac_b_o[i]\n",
    "    plt.plot(DV_array[:,i]*fac_a[i],color=\"b\",label=\"AntiCT\")\n",
    "    plt.plot(DV_matrix_o[i,:]*fac_a_o[i]+fac_b_o[i],color=\"r\",label=\"Ori\")\n",
    "    plt.plot(PV_matrx[i,:],color=\"k\",label=\"Ref\")\n",
    "    r2_ACT = r2_score(PV_matrx[i,:],result_ACT)\n",
    "    r2_ori = r2_score(PV_matrx[i,:],result_ori)\n",
    "    r2_ch_ACT.append(r2_ACT)\n",
    "    r2_ch_ori.append(r2_ori)\n",
    "    plt.xticks(range(len(temp)), list(map(int, temp)),fontsize=8)\n",
    "    plt.grid()\n",
    "    plt.legend(loc=\"lower right\")\n",
    "    plt.ylabel(\"radiance\")\n",
    "    plt.xlabel(\"T/K\")\n",
    "    plt.text(0.05, 0.95, \"Ch=\"+str(i+1)+\"\\nR2_ori=\"+str(r2_ori)[:7]+\"\\nR2_ACT=\"+str(r2_ACT)[:7], fontsize=12, color='k', transform=plt.gca().transAxes, ha='left', va='top')\n",
    "    plt.savefig(\"H:/1_Forschung/12_Program_p\\MSI_preprocessing\\Crosstalk/cali_T-wise_ch\"+str(i+1)+\".png\", dpi=800,bbox_inches='tight')\n",
    "\n",
    "r2_T_ACT = []\n",
    "r2_T_ori = []\n",
    "for i in range(len(DV_array)):\n",
    "    plt.clf()\n",
    "    result_ACT = DV_array[i,:]*fac_a\n",
    "    result_ori = DV_matrix_o[:,i]*fac_a_o+fac_b_o\n",
    "    plt.plot(DV_array[i,:]*fac_a,color=\"b\",label=\"AntiCT\")\n",
    "    plt.plot(DV_matrix_o[:,i]*fac_a_o+fac_b_o,color=\"r\",label=\"Ori\")\n",
    "    plt.plot(PV_matrx[:,i],color=\"k\",label=\"Ref\")\n",
    "    r2_ACT = r2_score(PV_matrx[:,i],result_ACT)\n",
    "    r2_ori = r2_score(PV_matrx[:,i],result_ori)\n",
    "    r2_ch_ACT.append(r2_ACT)\n",
    "    r2_ch_ori.append(r2_ori)\n",
    "    plt.legend(loc=\"lower right\")\n",
    "    plt.grid()\n",
    "    plt.ylabel(\"radiance\")\n",
    "    plt.xlabel(\"channel\")\n",
    "    plt.text(0.05, 0.95, \"T=\"+str(temp[i])[:5]+\"\\nR2_ori=\"+str(r2_ori)[:7]+\"\\nR2_AntiCT=\"+str(r2_ACT)[:7], fontsize=12, color='k',transform=plt.gca().transAxes, ha='left', va='top')\n",
    "    plt.savefig(\"H:/1_Forschung/12_Program_p\\MSI_preprocessing\\Crosstalk/cali_ch-wise_T\"+str(temp[i])+\"_case\"+str(i+1)+\".png\", dpi=800,bbox_inches='tight')"
   ],
   "metadata": {
    "collapsed": false
   }
  },
  {
   "cell_type": "code",
   "execution_count": null,
   "outputs": [],
   "source": [],
   "metadata": {
    "collapsed": false
   }
  },
  {
   "cell_type": "code",
   "execution_count": 92,
   "outputs": [
    {
     "name": "stderr",
     "output_type": "stream",
     "text": [
      "C:\\Users\\ge83viz\\AppData\\Local\\Temp\\ipykernel_28192\\1447442625.py:19: IntegrationWarning: The maximum number of subdivisions (50) has been achieved.\n",
      "  If increasing the limit yields no improvement it is advised to analyze \n",
      "  the integrand in order to determine the difficulties.  If the position of a \n",
      "  local difficulty can be determined (singularity, discontinuity) one will \n",
      "  probably gain from splitting up the interval and calling the integrator \n",
      "  on the subranges.  Perhaps a special-purpose integrator should be used.\n",
      "  funct0 = quad(integr, wl0, wl1, args=(tr_array, qe, t))[0]\n",
      "C:\\Users\\ge83viz\\AppData\\Local\\Temp\\ipykernel_28192\\1447442625.py:19: IntegrationWarning: The maximum number of subdivisions (50) has been achieved.\n",
      "  If increasing the limit yields no improvement it is advised to analyze \n",
      "  the integrand in order to determine the difficulties.  If the position of a \n",
      "  local difficulty can be determined (singularity, discontinuity) one will \n",
      "  probably gain from splitting up the interval and calling the integrator \n",
      "  on the subranges.  Perhaps a special-purpose integrator should be used.\n",
      "  funct0 = quad(integr, wl0, wl1, args=(tr_array, qe, t))[0]\n",
      "C:\\Users\\ge83viz\\AppData\\Local\\Temp\\ipykernel_28192\\1447442625.py:19: IntegrationWarning: The maximum number of subdivisions (50) has been achieved.\n",
      "  If increasing the limit yields no improvement it is advised to analyze \n",
      "  the integrand in order to determine the difficulties.  If the position of a \n",
      "  local difficulty can be determined (singularity, discontinuity) one will \n",
      "  probably gain from splitting up the interval and calling the integrator \n",
      "  on the subranges.  Perhaps a special-purpose integrator should be used.\n",
      "  funct0 = quad(integr, wl0, wl1, args=(tr_array, qe, t))[0]\n",
      "C:\\Users\\ge83viz\\AppData\\Local\\Temp\\ipykernel_28192\\1447442625.py:19: IntegrationWarning: The maximum number of subdivisions (50) has been achieved.\n",
      "  If increasing the limit yields no improvement it is advised to analyze \n",
      "  the integrand in order to determine the difficulties.  If the position of a \n",
      "  local difficulty can be determined (singularity, discontinuity) one will \n",
      "  probably gain from splitting up the interval and calling the integrator \n",
      "  on the subranges.  Perhaps a special-purpose integrator should be used.\n",
      "  funct0 = quad(integr, wl0, wl1, args=(tr_array, qe, t))[0]\n",
      "C:\\Users\\ge83viz\\AppData\\Local\\Temp\\ipykernel_28192\\1447442625.py:19: IntegrationWarning: The maximum number of subdivisions (50) has been achieved.\n",
      "  If increasing the limit yields no improvement it is advised to analyze \n",
      "  the integrand in order to determine the difficulties.  If the position of a \n",
      "  local difficulty can be determined (singularity, discontinuity) one will \n",
      "  probably gain from splitting up the interval and calling the integrator \n",
      "  on the subranges.  Perhaps a special-purpose integrator should be used.\n",
      "  funct0 = quad(integr, wl0, wl1, args=(tr_array, qe, t))[0]\n",
      "C:\\Users\\ge83viz\\AppData\\Local\\Temp\\ipykernel_28192\\1447442625.py:19: IntegrationWarning: The maximum number of subdivisions (50) has been achieved.\n",
      "  If increasing the limit yields no improvement it is advised to analyze \n",
      "  the integrand in order to determine the difficulties.  If the position of a \n",
      "  local difficulty can be determined (singularity, discontinuity) one will \n",
      "  probably gain from splitting up the interval and calling the integrator \n",
      "  on the subranges.  Perhaps a special-purpose integrator should be used.\n",
      "  funct0 = quad(integr, wl0, wl1, args=(tr_array, qe, t))[0]\n",
      "C:\\Users\\ge83viz\\AppData\\Local\\Temp\\ipykernel_28192\\1447442625.py:19: IntegrationWarning: The maximum number of subdivisions (50) has been achieved.\n",
      "  If increasing the limit yields no improvement it is advised to analyze \n",
      "  the integrand in order to determine the difficulties.  If the position of a \n",
      "  local difficulty can be determined (singularity, discontinuity) one will \n",
      "  probably gain from splitting up the interval and calling the integrator \n",
      "  on the subranges.  Perhaps a special-purpose integrator should be used.\n",
      "  funct0 = quad(integr, wl0, wl1, args=(tr_array, qe, t))[0]\n",
      "C:\\Users\\ge83viz\\AppData\\Local\\Temp\\ipykernel_28192\\1447442625.py:19: IntegrationWarning: The maximum number of subdivisions (50) has been achieved.\n",
      "  If increasing the limit yields no improvement it is advised to analyze \n",
      "  the integrand in order to determine the difficulties.  If the position of a \n",
      "  local difficulty can be determined (singularity, discontinuity) one will \n",
      "  probably gain from splitting up the interval and calling the integrator \n",
      "  on the subranges.  Perhaps a special-purpose integrator should be used.\n",
      "  funct0 = quad(integr, wl0, wl1, args=(tr_array, qe, t))[0]\n",
      "C:\\Users\\ge83viz\\AppData\\Local\\Temp\\ipykernel_28192\\1447442625.py:19: IntegrationWarning: The maximum number of subdivisions (50) has been achieved.\n",
      "  If increasing the limit yields no improvement it is advised to analyze \n",
      "  the integrand in order to determine the difficulties.  If the position of a \n",
      "  local difficulty can be determined (singularity, discontinuity) one will \n",
      "  probably gain from splitting up the interval and calling the integrator \n",
      "  on the subranges.  Perhaps a special-purpose integrator should be used.\n",
      "  funct0 = quad(integr, wl0, wl1, args=(tr_array, qe, t))[0]\n",
      "C:\\Users\\ge83viz\\AppData\\Local\\Temp\\ipykernel_28192\\1447442625.py:19: IntegrationWarning: The maximum number of subdivisions (50) has been achieved.\n",
      "  If increasing the limit yields no improvement it is advised to analyze \n",
      "  the integrand in order to determine the difficulties.  If the position of a \n",
      "  local difficulty can be determined (singularity, discontinuity) one will \n",
      "  probably gain from splitting up the interval and calling the integrator \n",
      "  on the subranges.  Perhaps a special-purpose integrator should be used.\n",
      "  funct0 = quad(integr, wl0, wl1, args=(tr_array, qe, t))[0]\n"
     ]
    },
    {
     "data": {
      "text/plain": "<Figure size 432x288 with 1 Axes>",
      "image/png": "[encoded data removed]"
     },
     "metadata": {
      "needs_background": "light"
     },
     "output_type": "display_data"
    }
   ],
   "source": [
    "t = 1500\n",
    "for i in range(10):\n",
    "    DV_ref = []\n",
    "    PV_ref = []\n",
    "    for j in range(9):\n",
    "        DV_ref.append(funct_int(qe_array_ori[j],t)/inte_sens[j])\n",
    "        if j !=8:\n",
    "            PV_ref.append(GT(t,wl[j]))\n",
    "    DV_ref = np.array(DV_ref)\n",
    "    DV_CT_cor = CT_cor @ np.array(DV_ref)\n",
    "\n",
    "    plt.clf()\n",
    "\n",
    "    plt.plot(PV_ref,color=\"k\",label=\"Ref\")\n",
    "\n",
    "    plt.plot(DV_ref[:8]*fac_a_o+fac_b_o,\"--\",color=\"r\",label=\"Ori\")\n",
    "\n",
    "    plt.plot(DV_CT_cor*fac_a,\"--\",color=\"b\",label=\"AntiCT\")\n",
    "    plt.grid()\n",
    "    plt.ylabel(\"radiance\")\n",
    "    plt.xlabel(\"channel\")\n",
    "    plt.legend(loc=\"lower right\")\n",
    "    plt.text(0.05, 0.95, \"T=\"+str(t), fontsize=12, color='k', transform=plt.gca().transAxes, ha='left', va='top')\n",
    "    plt.savefig(\"H:/1_Forschung/12_Program_p\\MSI_preprocessing\\Crosstalk/High-PV_compare\"+str(t)+\".jpg\", dpi=800,bbox_inches='tight')\n",
    "\n",
    "    t = t +500"
   ],
   "metadata": {
    "collapsed": false
   }
  }
 ],
 "metadata": {
  "kernelspec": {
   "display_name": "Python 3",
   "language": "python",
   "name": "python3"
  },
  "language_info": {
   "codemirror_mode": {
    "name": "ipython",
    "version": 2
   },
   "file_extension": ".py",
   "mimetype": "text/x-python",
   "name": "python",
   "nbconvert_exporter": "python",
   "pygments_lexer": "ipython2",
   "version": "2.7.6"
  }
 },
 "nbformat": 4,
 "nbformat_minor": 0
}
